{
 "cells": [
  {
   "cell_type": "markdown",
   "metadata": {},
   "source": [
    "# Regular Expressions\n",
    "\n",
    "- a special sequence of characters that helps you match or find other strings or sets of strings, using a specialized syntax held in a pattern. \n",
    "\n",
    "- widely used in the Information Technology world.\n",
    "\n",
    "- the python module **re** provides full support for Perl-like regular expressions in Python. \n",
    "\n",
    "- it raises the exception re.error if an error occurs while compiling or using a regular expression.\n",
    "\n",
    "\n",
    "**Contents**\n",
    "\n",
    "- Basic Patterns: Ordinary Characters\n",
    "- Wild Card Characters: Special Characters\n",
    "- Repetitions\n",
    "- Groups and Grouping using Regular Expressions\n",
    "- Greedy vs Non-Greedy Matching\n",
    "- More on the re Python Library\n",
    "- `search()` versus `match()`\n",
    "- Regular Expression Modifiers: Option Flags\n",
    "- Cheat Sheet\n",
    "\n",
    "\n",
    "**IMPORTANT**<br>\n",
    "There are various characters, which would have special meaning when they are used in regular expression. <br>\n",
    "To avoid any confusion while dealing with regular expressions, we would use Raw Strings as `r'expression'`."
   ]
  },
  {
   "cell_type": "markdown",
   "metadata": {},
   "source": [
    "## Import the library\n",
    "In Python, regular expressions are supported by the re module. <br>\n",
    "That means that if you want to start using them in your Python scripts, you have to import this module with the help of import:"
   ]
  },
  {
   "cell_type": "code",
   "execution_count": 1,
   "metadata": {},
   "outputs": [],
   "source": [
    "import re\n"
   ]
  },
  {
   "cell_type": "markdown",
   "metadata": {},
   "source": [
    "## Basic Patterns: Ordinary Characters\n",
    "You can easily tackle many basic patterns in Python using the ordinary characters. <br>\n",
    "Ordinary characters are the simplest regular expressions. <br>\n",
    "They match themselves exactly and do not have a special meaning in their regular expression syntax.\n",
    "\n",
    "Examples are 'A', 'a', 'X', '5'."
   ]
  },
  {
   "cell_type": "code",
   "execution_count": 3,
   "metadata": {},
   "outputs": [
    {
     "name": "stdout",
     "output_type": "stream",
     "text": [
      "Not a match!\n"
     ]
    }
   ],
   "source": [
    "pattern = r\"Cooker\"\n",
    "sequence = \"Cookie\"\n",
    "if re.match(pattern, sequence):\n",
    "    print(\"Match!\")\n",
    "else: \n",
    "    print(\"Not a match!\")\n",
    "    "
   ]
  },
  {
   "cell_type": "markdown",
   "metadata": {},
   "source": [
    "The `match(`) function returns a match object if the text matches the pattern. Otherwise it returns None. The `re` module also contains several other functions and you will learn some of them later on in the tutorial. For now, though, let's focus on ordinary characters.\n",
    "\n",
    "\n",
    "Do you notice the `r` at the start of the pattern Cookie?\n",
    "\n",
    "This is called a raw string literal. It changes how the string literal is interpreted. Such literals are stored as they appear.\n",
    "\n",
    "For example, `\\` is just a backslash when prefixed with a `r` rather than being interpreted as an escape sequence. You will see what this means with special characters. Sometimes, the syntax involves backslash-escaped characters and to prevent these characters from being interpreted as escape sequences, you use the raw `r` prefix. You don't actually need it for this example, however it is a good practice to use it for consistency."
   ]
  },
  {
   "cell_type": "markdown",
   "metadata": {},
   "source": [
    "## Wild Card Characters: Special Characters\n",
    "\n",
    "Special characters are characters which do not match themselves as seen but actually have a special meaning when used in a regular expression.\n",
    "\n",
    "The most widely used special characters are:\n",
    "\n",
    "- A period. Matches any single character except newline character."
   ]
  },
  {
   "cell_type": "code",
   "execution_count": 8,
   "metadata": {},
   "outputs": [
    {
     "data": {
      "text/plain": [
       "'Cookie'"
      ]
     },
     "execution_count": 8,
     "metadata": {},
     "output_type": "execute_result"
    }
   ],
   "source": [
    "re.search(r'Co.k.e', 'Cookie').group()"
   ]
  },
  {
   "cell_type": "markdown",
   "metadata": {},
   "source": [
    "The `group()` function returns the string matched by the re. You will see this function in more detail later.\n",
    "\n",
    "`\\w `- Lowercase w. Matches any single letter, digit or underscore."
   ]
  },
  {
   "cell_type": "code",
   "execution_count": 18,
   "metadata": {},
   "outputs": [
    {
     "data": {
      "text/plain": [
       "'Cookie'"
      ]
     },
     "execution_count": 18,
     "metadata": {},
     "output_type": "execute_result"
    }
   ],
   "source": [
    "re.search(r'Co\\wk\\we', 'Cookie').group()"
   ]
  },
  {
   "cell_type": "markdown",
   "metadata": {},
   "source": [
    "`\\W` - Uppercase w. Matches any character not part of `\\w` (lowercase w)."
   ]
  },
  {
   "cell_type": "code",
   "execution_count": 21,
   "metadata": {},
   "outputs": [
    {
     "data": {
      "text/plain": [
       "'C@ke'"
      ]
     },
     "execution_count": 21,
     "metadata": {},
     "output_type": "execute_result"
    }
   ],
   "source": [
    "re.search(r'C\\Wke', 'C@ke').group()"
   ]
  },
  {
   "cell_type": "markdown",
   "metadata": {},
   "source": [
    "`\\s` - Lowercase s. Matches a single whitespace character like: space, newline, tab, return."
   ]
  },
  {
   "cell_type": "markdown",
   "metadata": {},
   "source": [
    "re.search(r'Eat\\scake', 'Eat cake').group()"
   ]
  },
  {
   "cell_type": "markdown",
   "metadata": {},
   "source": [
    "`\\S` - Uppercase s. Matches any character not part of `\\s` (lowercase s)."
   ]
  },
  {
   "cell_type": "code",
   "execution_count": 26,
   "metadata": {},
   "outputs": [
    {
     "data": {
      "text/plain": [
       "'Cookie'"
      ]
     },
     "execution_count": 26,
     "metadata": {},
     "output_type": "execute_result"
    }
   ],
   "source": [
    "re.search(r'Cook\\Se', 'Cookie').group()"
   ]
  },
  {
   "cell_type": "markdown",
   "metadata": {},
   "source": [
    "`\\t` - Lowercase t. Matches tab."
   ]
  },
  {
   "cell_type": "code",
   "execution_count": null,
   "metadata": {},
   "outputs": [],
   "source": [
    "re.search(r'Eat\\tcake', 'Eat\tcake').group()"
   ]
  },
  {
   "cell_type": "markdown",
   "metadata": {},
   "source": [
    "- `\\n` - Lowercase n. Matches newline.\n",
    "\n",
    "- `\\r` - Lowercase r. Matches return.\n",
    "\n",
    "- `\\d` - Lowercase d. Matches decimal digit 0-9."
   ]
  },
  {
   "cell_type": "code",
   "execution_count": null,
   "metadata": {},
   "outputs": [],
   "source": [
    "re.search(r'c\\d\\dkie', 'c00kie').group()"
   ]
  },
  {
   "cell_type": "markdown",
   "metadata": {},
   "source": [
    "`^` - Caret. Matches a pattern at the start of the string."
   ]
  },
  {
   "cell_type": "code",
   "execution_count": 9,
   "metadata": {},
   "outputs": [
    {
     "data": {
      "text/plain": [
       "'Eat'"
      ]
     },
     "execution_count": 9,
     "metadata": {},
     "output_type": "execute_result"
    }
   ],
   "source": [
    "re.search(r'^Eat', 'Eat cake').group()"
   ]
  },
  {
   "cell_type": "markdown",
   "metadata": {},
   "source": [
    "`$` - Matches a pattern at the end of string."
   ]
  },
  {
   "cell_type": "code",
   "execution_count": 10,
   "metadata": {},
   "outputs": [
    {
     "data": {
      "text/plain": [
       "'cake'"
      ]
     },
     "execution_count": 10,
     "metadata": {},
     "output_type": "execute_result"
    }
   ],
   "source": [
    "re.search(r'cake$', 'Eat cake').group()"
   ]
  },
  {
   "cell_type": "markdown",
   "metadata": {},
   "source": [
    "`[abc]`<br>\n",
    "- Matches a or b or c.\n",
    "\n",
    "`[a-zA-Z0-9]` <br>\n",
    "- Matches any letter from (a to z) or (A to Z) or (0 to 9). <br>\n",
    "- Characters that are not within a range can be matched by complementing the set. <br>\n",
    "- If the first character of the set is ^, all the characters that are not in the set will be matched."
   ]
  },
  {
   "cell_type": "code",
   "execution_count": 11,
   "metadata": {},
   "outputs": [
    {
     "data": {
      "text/plain": [
       "'Number: 5'"
      ]
     },
     "execution_count": 11,
     "metadata": {},
     "output_type": "execute_result"
    }
   ],
   "source": [
    "re.search(r'Number: [0-6]', 'Number: 5').group()"
   ]
  },
  {
   "cell_type": "code",
   "execution_count": 12,
   "metadata": {},
   "outputs": [
    {
     "data": {
      "text/plain": [
       "'Number: 0'"
      ]
     },
     "execution_count": 12,
     "metadata": {},
     "output_type": "execute_result"
    }
   ],
   "source": [
    "# Matches any character except 5\n",
    "re.search(r'Number: [^5]', 'Number: 0').group()"
   ]
  },
  {
   "cell_type": "markdown",
   "metadata": {},
   "source": [
    "`\\A` - Uppercase a. Matches only at the start of the string. Works across multiple lines as well."
   ]
  },
  {
   "cell_type": "code",
   "execution_count": 13,
   "metadata": {},
   "outputs": [
    {
     "data": {
      "text/plain": [
       "'Cookie'"
      ]
     },
     "execution_count": 13,
     "metadata": {},
     "output_type": "execute_result"
    }
   ],
   "source": [
    "re.search(r'\\A[A-E]ookie', 'Cookie').group()"
   ]
  },
  {
   "cell_type": "markdown",
   "metadata": {},
   "source": [
    "`\\b` - Lowercase b. Matches only the beginning or end of the word."
   ]
  },
  {
   "cell_type": "code",
   "execution_count": 16,
   "metadata": {},
   "outputs": [
    {
     "data": {
      "text/plain": [
       "'Cookie'"
      ]
     },
     "execution_count": 16,
     "metadata": {},
     "output_type": "execute_result"
    }
   ],
   "source": [
    "re.search(r'\\b[A-E]ookie', 'this is a Cookie').group()"
   ]
  },
  {
   "cell_type": "markdown",
   "metadata": {},
   "source": [
    "`\\` - Backslash. If the character following the backslash is a recognized escape character, then the special meaning of the term is taken. For example, \\n is considered as newline. However, if the character following the \\ is not a recognized escape character, then the \\ is treated like any other character and passed through.\n"
   ]
  },
  {
   "cell_type": "code",
   "execution_count": 40,
   "metadata": {},
   "outputs": [
    {
     "name": "stdout",
     "output_type": "stream",
     "text": [
      "Back\\\\\\stail\n",
      "Back tail\n"
     ]
    }
   ],
   "source": [
    "# This checks for '\\' in the string instead of '\\t' due to the '\\' used \n",
    "print(re.search(r'Back\\\\+stail', r'Back\\\\\\stail').group())\n",
    "\n",
    "# This treats '\\s' as an escape character because it lacks '\\' at the start of '\\s'\n",
    "print(re.search(r'Back\\stail', 'Back tail').group())\n"
   ]
  },
  {
   "cell_type": "markdown",
   "metadata": {},
   "source": [
    "## Repetitions\n",
    "It becomes quite tedious if you are looking to find long patterns in a sequence. Fortunately, the `re` module handles repetitions using the following special characters:\n",
    "\n",
    "`+` - Checks for one or more characters to its left."
   ]
  },
  {
   "cell_type": "code",
   "execution_count": 40,
   "metadata": {},
   "outputs": [
    {
     "data": {
      "text/plain": [
       "'Cooookie'"
      ]
     },
     "execution_count": 40,
     "metadata": {},
     "output_type": "execute_result"
    }
   ],
   "source": [
    "re.search(r'Co+kie', 'Cooookie').group()"
   ]
  },
  {
   "cell_type": "markdown",
   "metadata": {},
   "source": [
    "`*` - Checks for zero or more characters to its left.\n"
   ]
  },
  {
   "cell_type": "code",
   "execution_count": 44,
   "metadata": {},
   "outputs": [
    {
     "data": {
      "text/plain": [
       "'Cakie'"
      ]
     },
     "execution_count": 44,
     "metadata": {},
     "output_type": "execute_result"
    }
   ],
   "source": [
    "re.search(r'Ca*o*kie', 'Cakie').group()"
   ]
  },
  {
   "cell_type": "markdown",
   "metadata": {},
   "source": [
    "`?` - Checks for exactly zero or one character to its left."
   ]
  },
  {
   "cell_type": "code",
   "execution_count": 49,
   "metadata": {},
   "outputs": [
    {
     "data": {
      "text/plain": [
       "'Caokie'"
      ]
     },
     "execution_count": 49,
     "metadata": {},
     "output_type": "execute_result"
    }
   ],
   "source": [
    "re.search(r'Ca?o?kie', 'Caokie').group()"
   ]
  },
  {
   "cell_type": "markdown",
   "metadata": {},
   "source": [
    "But what if you want to check for exact number of sequence repetition?\n",
    "\n",
    "For example, checking the validity of a phone number in an application. re module handles this very gracefully as well using the following regular expressions:\n",
    "\n",
    "`{x}` - Repeat exactly x number of times.\n",
    "\n",
    "`{x,}` - Repeat at least x times or more.\n",
    "\n",
    "`{x, y}` - Repeat at least x times but no more than y times."
   ]
  },
  {
   "cell_type": "code",
   "execution_count": 47,
   "metadata": {},
   "outputs": [
    {
     "data": {
      "text/plain": [
       "'9161845789'"
      ]
     },
     "execution_count": 47,
     "metadata": {},
     "output_type": "execute_result"
    }
   ],
   "source": [
    "re.search(r'^\\d{9,10}$', '9161845789').group()"
   ]
  },
  {
   "cell_type": "markdown",
   "metadata": {},
   "source": [
    "The `+` and `*` qualifiers are said to be **greedy**."
   ]
  },
  {
   "cell_type": "markdown",
   "metadata": {},
   "source": [
    "## Groups and Grouping using Regular Expressions\n",
    "\n",
    "\n",
    "Suppose that, when you are validating email addresses and want to check the user name and host separately.\n",
    "\n",
    "This is when the group feature of regular expression comes in handy. It allows you to pick up parts of the matching text.\n",
    "\n",
    "Parts of a regular expression pattern bounded by parentheses() are called **groups**. \n",
    "\n",
    "The parentheses does not change what the expression matches, but rather forms groups within the matched sequence. You have been using the `group()` function all along in this tutorial's examples. The plain `match.group()` without any argument is still the whole matched text as usual.\n",
    "\n"
   ]
  },
  {
   "cell_type": "code",
   "execution_count": 72,
   "metadata": {},
   "outputs": [
    {
     "name": "stdout",
     "output_type": "stream",
     "text": [
      "support@somewhere.com\n",
      "support\n",
      "somewhere.com\n"
     ]
    }
   ],
   "source": [
    "email_address = 'Please contact us at: support@somewhere.com'\n",
    "match = re.search(r'([\\w\\.-]+)@([\\w\\.-]+)', email_address)\n",
    "\n",
    "print(match.group()) # The whole matched text\n",
    "print(match.group(1)) # The username (group 1)\n",
    "print(match.group(2)) # The host (group 2)"
   ]
  },
  {
   "cell_type": "markdown",
   "metadata": {},
   "source": [
    "## Greedy vs Non-Greedy Matching\n",
    "\n",
    "When a special character matches as much of the search sequence (string) as possible, it is said to be a **\"Greedy Match\"**. \n",
    "\n",
    "It is the normal behaviour of a regular expression but sometimes this behaviour is not desired:"
   ]
  },
  {
   "cell_type": "code",
   "execution_count": 65,
   "metadata": {},
   "outputs": [
    {
     "data": {
      "text/plain": [
       "'<h1>TITLE</h1>'"
      ]
     },
     "execution_count": 65,
     "metadata": {},
     "output_type": "execute_result"
    }
   ],
   "source": [
    "heading  = r'<h1>TITLE</h1>'\n",
    "re.match(r'<.*>', heading).group()"
   ]
  },
  {
   "cell_type": "markdown",
   "metadata": {},
   "source": [
    "The pattern `<.*>` matched the whole string, right up to the second occurrence of `>`.\n",
    "\n",
    "However, if you only wanted to match the first **<h1>** tag, you could have used the greedy qualifier `*?` that matches as little text as possible.\n",
    "\n",
    "Adding `?` after the qualifier makes it perform the match in a non-greedy or minimal fashion; That is, as few characters as possible will be matched. When you run `<.*>`, you will only get a match with **<h1>**"
   ]
  },
  {
   "cell_type": "code",
   "execution_count": 66,
   "metadata": {},
   "outputs": [
    {
     "data": {
      "text/plain": [
       "'<h1>'"
      ]
     },
     "execution_count": 66,
     "metadata": {},
     "output_type": "execute_result"
    }
   ],
   "source": [
    "heading  = r'<h1>TITLE</h1>'\n",
    "re.match(r'<.*?>', heading).group()"
   ]
  },
  {
   "cell_type": "markdown",
   "metadata": {},
   "source": [
    "## More on the re Python Library\n",
    "\n",
    "The `re` library in Python provides several functions that makes it a skill worth mastering. You have already seen some of them, such as the `re.search()`, `re.match()`. \n",
    "\n",
    "### Search\n",
    "`search(pattern, string, flags=0)`<br>\n",
    "With this function, you scan through the given string/sequence looking for the first location where the regular expression produces a match. It returns a corresponding match object if found, else returns None if no position in the string matches the pattern. Note that None is different from finding a zero-length match at some point in the string."
   ]
  },
  {
   "cell_type": "code",
   "execution_count": 50,
   "metadata": {},
   "outputs": [
    {
     "data": {
      "text/plain": [
       "<re.Match object; span=(9, 15), match='cookie'>"
      ]
     },
     "execution_count": 50,
     "metadata": {},
     "output_type": "execute_result"
    }
   ],
   "source": [
    "pattern = \"cookie\"\n",
    "sequence = \"Cake and cookie\"\n",
    "\n",
    "re.search(pattern, sequence)"
   ]
  },
  {
   "cell_type": "markdown",
   "metadata": {},
   "source": [
    "### Match \n",
    "`match(pattern, string, flags=0)`<br>\n",
    "Returns a corresponding match object if zero or more characters at the beginning of string match the pattern.<br>\n",
    "Else it returns None, if the string does not match the given pattern.\n",
    "\n"
   ]
  },
  {
   "cell_type": "code",
   "execution_count": 68,
   "metadata": {},
   "outputs": [
    {
     "name": "stdout",
     "output_type": "stream",
     "text": [
      "None\n",
      "C\n"
     ]
    }
   ],
   "source": [
    "pattern = \"C\"\n",
    "sequence1 = \"IceCream\"\n",
    "\n",
    "# No match since \"C\" is not at the start of \"IceCream\"\n",
    "print(re.match(pattern, sequence1))\n",
    "\n",
    "\n",
    "sequence2 = \"Cake\"\n",
    "print(re.match(pattern,sequence2).group())"
   ]
  },
  {
   "cell_type": "markdown",
   "metadata": {},
   "source": [
    "### search() versus match()\n",
    "\n",
    "The `match()` function checks for a match only at the beginning of the string (by default) whereas the `search()` function checks for a match anywhere in the string."
   ]
  },
  {
   "cell_type": "markdown",
   "metadata": {},
   "source": [
    "### findall\n",
    "`findall(pattern, string, flags=0)`<br>\n",
    "Finds all the possible matches in the entire sequence and returns them as a list of strings. Each returned string represents one match."
   ]
  },
  {
   "cell_type": "code",
   "execution_count": 69,
   "metadata": {},
   "outputs": [
    {
     "name": "stdout",
     "output_type": "stream",
     "text": [
      "support@somwhere.com\n",
      "xyz@somwhere.com\n"
     ]
    }
   ],
   "source": [
    "email_address = \"Please contact us at: support@somwhere.com, xyz@somwhere.com\"\n",
    "\n",
    "#'addresses' is a list that stores all the possible match\n",
    "addresses = re.findall(r'[\\w\\.-]+@[\\w\\.-]+', email_address)\n",
    "for address in addresses: \n",
    "    print(address)"
   ]
  },
  {
   "cell_type": "code",
   "execution_count": 70,
   "metadata": {},
   "outputs": [
    {
     "name": "stdout",
     "output_type": "stream",
     "text": [
      "['09', '2019']\n"
     ]
    }
   ],
   "source": [
    "text = '09, Oct 2019'\n",
    "print(re.findall('\\d+', text))  # \\d  Any digit. The + mandates at least 1 digit."
   ]
  },
  {
   "cell_type": "markdown",
   "metadata": {},
   "source": [
    "### Substitution\n",
    "`sub(pattern, repl, string, count=0, flags=0)`<br>\n",
    "This is the **substitute** function. It returns the string obtained by replacing or substituting the leftmost non-overlapping occurrences of pattern in string by the replacement **repl**. If the pattern is not found then the string is returned unchanged."
   ]
  },
  {
   "cell_type": "code",
   "execution_count": 48,
   "metadata": {},
   "outputs": [
    {
     "name": "stdout",
     "output_type": "stream",
     "text": [
      "Please contact us at: support@somewhere.com\n"
     ]
    }
   ],
   "source": [
    "email_address = \"Please contact us at: xyz@somewhere.com\"\n",
    "new_email_address = re.sub(r'([\\w\\.-]+)@([\\w\\.-]+)', r'support@somewhere.com', email_address)\n",
    "print(new_email_address)"
   ]
  },
  {
   "cell_type": "markdown",
   "metadata": {},
   "source": [
    "### Compile\n",
    "`compile(pattern, flags=0)`<br>\n",
    "\n",
    "Compiles a regular expression pattern into a **regular expression object**. When you need to use an expression several times in a single program, using the `compile()` function to save the resulting regular expression object for reuse is more efficient. This is because the compiled versions of the most recent patterns passed to `compile()` and the module-level matching functions are cached."
   ]
  },
  {
   "cell_type": "code",
   "execution_count": null,
   "metadata": {},
   "outputs": [],
   "source": []
  },
  {
   "cell_type": "markdown",
   "metadata": {},
   "source": [
    "## Modifier flags\n",
    "An expression's behaviour can be modified by specifying a flags value.  \n",
    "You can add flag as an extra argument to the various functions that you have seen in this tutorial.  \n",
    "Some of the flags used are: `IGNORECASE`, `DOTALL`, `MULTILINE`, `VERBOSE`, etc."
   ]
  },
  {
   "cell_type": "markdown",
   "metadata": {},
   "source": [
    "## Regular Expression Modifiers: Option Flags\n",
    "\n",
    "<table class=\"table table-bordered\">\n",
    "<tr>\n",
    "<th style=\"text-align:center;width:10%\">Sr.No.</th>\n",
    "<th style=\"text-align:center;\">Modifier &amp; Description</th>\n",
    "</tr>\n",
    "<tr>\n",
    "<td class=\"ts\">1</td>\n",
    "<td><p><b>re.I</b></p>\n",
    "<p>Performs case-insensitive matching.</p></td>\n",
    "</tr>\n",
    "<tr>\n",
    "<td class=\"ts\">2</td>\n",
    "<td><p><b>re.L</b></p>\n",
    "<p>Interprets words according to the current locale. This interpretation affects the alphabetic group (\\w and \\W), as well as word boundary behaviour(\\b and \\B).</p></td>\n",
    "</tr>\n",
    "<tr>\n",
    "<td class=\"ts\">3</td>\n",
    "<td><p><b>re.M</b></p>\n",
    "<p>Makes $ match the end of a line (not just the end of the string) and makes ^ match the start of any line (not just the start of the string).</p></td>\n",
    "</tr>\n",
    "<tr>\n",
    "<td class=\"ts\">4</td>\n",
    "<td><p><b>re.S</b></p>\n",
    "<p>Makes a period (dot) match any character, including a newline.</p></td>\n",
    "</tr>\n",
    "<tr>\n",
    "<td class=\"ts\">5</td>\n",
    "<td><p><b>re.U</b></p>\n",
    "<p>Interprets letters according to the Unicode character set. This flag affects the behaviour of \\w, \\W, \\b, \\B.</p></td>\n",
    "</tr>\n",
    "<tr>\n",
    "<td class=\"ts\">6</td>\n",
    "<td><p><b>re.X</b></p>\n",
    "<p>Permits \"cuter\" regular expression syntax. It ignores whitespace (except inside a set [] or when escaped by a backslash) and treats unescaped # as a comment marker.</p></td>\n",
    "</tr>\n",
    "</table>"
   ]
  },
  {
   "cell_type": "markdown",
   "metadata": {},
   "source": [
    "## Cheat Sheet\n",
    "\n",
    "Here is a quick cheat sheet for various rules in regular expressions:\n",
    "\n",
    "**Identifiers:**\n",
    "\n",
    "\\d ==> any number<br>\n",
    "\\D ==> anything but a number<br>\n",
    "\\s ==> space<br>\n",
    "\\S ==> anything but a space<br>\n",
    "\\w ==> any letter<br>\n",
    "\\W ==> anything but a letter<br>\n",
    ". ==> any character, except for a new line<br>\n",
    "\\b ==> space around whole words<br>\n",
    "\\. ==> period. must use backslash, because . normally means any character.<br>\n",
    "\n",
    "**Modifiers:**\n",
    "\n",
    "{1,3} ==> for digits, u expect 1-3 counts of digits, or \"places\"<br>\n",
    "<span>+</span> ==>match 1 or more<br>\n",
    "? ==> match 0 or 1 repetitions.<br>\n",
    "<span>*</span> ==> match 0 or MORE repetitions<br>\n",
    "$ ==> matches at the end of string<br>\n",
    "^ ==> matches start of a string<br>\n",
    "| ==> matches either/or. Example x|y = will match either x or y<br>\n",
    "[] ==> range, or \"variance\"<br>\n",
    "{x} ==> expect to see this amount of the preceding code.<br>\n",
    "{x,y} ==> expect to see this x-y amounts of the preceding code<br>\n",
    "\n",
    "**White Space Charts:**<br>\n",
    "\n",
    "\\n ==> new line<br>\n",
    "\\s ==> space<br>\n",
    "\\t ==> tab<br>\n",
    "\\e ==> escape<br>\n",
    "\\f ==> form feed<br>\n",
    "\\r ==> carriage return<br>\n",
    "\n",
    "\n",
    "**Characters to REMEMBER TO ESCAPE IF USED!**<br>\n",
    "\n",
    ". + * ? [ ] $ ^ ( ) { } | \\\n",
    "\n",
    "\n",
    "**Brackets:**\n",
    "\n",
    "[] ==> quant[ia]tative = will find either quantitative, or quantatative.<br>\n",
    "[a-z] ==> return any lowercase letter a-z<br>\n",
    "[1-5a-qA-Z] ==> return all numbers 1-5, lowercase letters a-q and uppercase A-Z<br>"
   ]
  },
  {
   "cell_type": "markdown",
   "metadata": {},
   "source": [
    "# Lab: Extracting data using regular expressions\n",
    "\n",
    "* Create a new notebook, call it \"Regular Expression Lab\", or something suitably descriptive\n",
    "* You task is it process the file \"data/http-accesslog.txt\"\n",
    "\n",
    "This is an http (webserver) log file. The lines look like this:\n",
    "```\n",
    "46.119.125.179 - - [31/Dec/2015:05:22:37 +0100] \"GET /administrator/index.php HTTP/1.1\" 200 4263 \"-\" \"Mozilla/5.0 (Windows NT 5.1; rv:29.0) Gecko/20100101 Firefox/29.0\" \"-\"\n",
    "180.76.15.150 - - [31/Dec/2015:05:34:44 +0100] \"GET / HTTP/1.1\" 200 10479 \"-\" \"Mozilla/5.0 (compatible; Baiduspider/2.0; +http://www.baidu.com/search/spider.html)\" \"-\"\n",
    "157.55.39.200 - - [31/Dec/2015:06:17:42 +0100] \"GET /robots.txt HTTP/1.1\" 200 304 \"-\" \"Mozilla/5.0 (compatible; bingbot/2.0; +http://www.bing.com/bingbot.htm)\" \"-\"\n",
    "66.249.69.112 - - [31/Dec/2015:06:44:45 +0100] \"GET /robots.txt HTTP/1.1\" 200 304 \"-\" \"Mozilla/5.0 (compatible; Googlebot/2.1; +http://www.google.com/bot.html)\" \"-\"\n",
    "```\n",
    "\n",
    "| Field | Purpose |\n",
    "|:--|:--|\n",
    "|IP address| The address of the requester |\n",
    "|Access Time| The date and time that the request occurred|\n",
    "|Request|The http request (method URL PROTOCOL)|\n",
    "|Response code|200 = OK [Good reference for HTTP codes](https://www.restapitutorial.com/httpstatuscodes.html)|\n",
    "|Length|How many bytes were sent|\n",
    "|Browser ID|includes browser name and version, may include operating system|\n",
    "\n",
    "Tasks\n",
    "* Were there any failed requests?\n",
    "* Were there any redirects?\n",
    "* How may days does the log cover?\n",
    "* What was the busiest day?\n",
    "* How many versions of Firefox were used?\n",
    "* How many different operating systems did those Firefox users use?\n",
    "    "
   ]
  },
  {
   "cell_type": "code",
   "execution_count": null,
   "metadata": {},
   "outputs": [],
   "source": []
  }
 ],
 "metadata": {
  "kernelspec": {
   "display_name": "Python 3",
   "language": "python",
   "name": "python3"
  },
  "language_info": {
   "codemirror_mode": {
    "name": "ipython",
    "version": 3
   },
   "file_extension": ".py",
   "mimetype": "text/x-python",
   "name": "python",
   "nbconvert_exporter": "python",
   "pygments_lexer": "ipython3",
   "version": "3.7.6"
  }
 },
 "nbformat": 4,
 "nbformat_minor": 2
}
