{
 "cells": [
  {
   "cell_type": "markdown",
   "metadata": {
    "slideshow": {
     "slide_type": "slide"
    }
   },
   "source": [
    "<center>\n",
    "\n",
    "# An Introduction to Jupyter and Python\n",
    "</center>"
   ]
  },
  {
   "cell_type": "markdown",
   "metadata": {
    "slideshow": {
     "slide_type": "slide"
    }
   },
   "source": [
    "<img style=\"float:right\" src=\"images/nav_logo.svg\"/><br>\n",
    "# What is a Jupyter notebook?\n",
    "\n",
    "Simply put. This is.\n",
    "\n",
    "A Jupyter notebook is an example of what is known as literate programming. \n",
    "\n",
    "You wil occasionally hear of Jupyter and Jupyter-like tools referred to as the \"Notebook Metaphor\" as they derive their name and from from the notebooks traditionally used by scientists and engineers to record their research and notes; as such they can store all manner of data, from rich text and images to databases and spreadsheets. \n",
    "\n",
    "* A notebook for text and images, graphs and movies.\n",
    "* A \"sandbox\" for experimenting with code\n",
    "* A way to communicate both code and documentation, together.\n",
    "* A powerful tool, stepping beyond traditional spreadsheets and word processors."
   ]
  },
  {
   "cell_type": "markdown",
   "metadata": {
    "slideshow": {
     "slide_type": "slide"
    }
   },
   "source": [
    "# A whirlwind tour of the notebook interface\n",
    "\n",
    "### Installing Jupyter.\n",
    "For this course you have been assigned a pre-installed Jupyter workstation. However, to get the most out of the skills you'll learn, it is advisable to play with it yourself at home. \n",
    "\n",
    "The easiest way to install Jupyter and all of the useful libraries that come with it is by visiting https://anaconda.com/distribution\n",
    "\n",
    "Make sure that you are downloading the correct package for your operating system. Choose Python3 unless you know that you need Python2.\n",
    "\n",
    "The instructions with explain how to start a Jupyter notebook. On Windows and Mac, you can simply use the Anaconda entries on the start menu. On all platforms, you can run a command shell and start jupyter with the command\n",
    "```\n",
    "jupyter notebook\n",
    "```\n",
    "If everything is installed properly, a browser window will open typically pointing to https://localhost:8888"
   ]
  },
  {
   "cell_type": "markdown",
   "metadata": {
    "slideshow": {
     "slide_type": "slide"
    }
   },
   "source": [
    "# A whirlwind tour - part 2\n",
    "\n",
    "### The Jupyter \"dashboard\"\n",
    "The first window you will see shoud look something like this.\n",
    "![](images/jupyter-dashboard.jpg)\n",
    "It is similar to an operating system file explorer. It shows the contents of the directory/folder that the Notebook browser was started from."
   ]
  },
  {
   "cell_type": "markdown",
   "metadata": {
    "slideshow": {
     "slide_type": "slide"
    }
   },
   "source": [
    "# A whirlwind tour - part 3\n",
    "### The notebook\n",
    "Click \"New\" on the righthand side.\n",
    "![](images/new-notebook-menu.jpg)"
   ]
  },
  {
   "cell_type": "markdown",
   "metadata": {
    "slideshow": {
     "slide_type": "fragment"
    }
   },
   "source": [
    "A new tab will open with a new clean notebook in it. The heading of the page will look something like this.\n",
    "![](images/notebook_header_4_0.png)\n",
    "Notice a few things:\n",
    "* The type of notebook \"Python 3\", denoting the \"kernel\" that is running. More on that later\n",
    "* The title \"Untitled\" - click this in order to change it."
   ]
  },
  {
   "cell_type": "markdown",
   "metadata": {
    "slideshow": {
     "slide_type": "slide"
    }
   },
   "source": [
    "# A whirlwind tour - part 4\n",
    "### The notebook cells\n",
    "All data is entered into notebook cells. A cell looks like this.\n",
    "![](images/command_mode.png)\n",
    "This is in fact a code cell, You can tell this by the ```In [ ]:``` prefix. This means that the cell can be used to enter and run code.\n",
    "The blue bar on the left indicates that this cell is in \"command mode\".\n"
   ]
  },
  {
   "cell_type": "markdown",
   "metadata": {
    "slideshow": {
     "slide_type": "fragment"
    }
   },
   "source": [
    "### Command mode\n",
    "Command mode let's you add new cells, move cells up and down relative to one another, and to delete a cell completely. Most importantly, in command mode you can change the type of cell from the keyboard."
   ]
  },
  {
   "cell_type": "markdown",
   "metadata": {
    "slideshow": {
     "slide_type": "slide"
    }
   },
   "source": [
    "# A whirlwind tour - part 4a\n",
    "### The notebook cells\n",
    "Pressing \"enter\" in a command cell will enter \"edit\" mode. An edit cell has a green edge and looks like this.\n",
    "![](images/edit_mode.png)\n",
    "This is still a code cell and you can now change the code.\n"
   ]
  },
  {
   "cell_type": "code",
   "execution_count": 2,
   "metadata": {
    "slideshow": {
     "slide_type": "fragment"
    }
   },
   "outputs": [
    {
     "name": "stdout",
     "output_type": "stream",
     "text": [
      "Hello, World!\n"
     ]
    }
   ],
   "source": [
    "# Type some code"
   ]
  },
  {
   "cell_type": "markdown",
   "metadata": {},
   "source": [
    "typing ctrl-enter (or shift-enter) will attempt to run the code you have written"
   ]
  },
  {
   "cell_type": "markdown",
   "metadata": {
    "slideshow": {
     "slide_type": "slide"
    }
   },
   "source": [
    "# A whirlwind tour - part 5\n",
    "### Other types of cell\n",
    "For the sake of brevity will will only look at one other type of cell, the Markdown cell. However, on the tool bar at the top is a convenient \"dropdown\" that shows you a few other cell types available. "
   ]
  },
  {
   "cell_type": "markdown",
   "metadata": {
    "slideshow": {
     "slide_type": "fragment"
    }
   },
   "source": [
    "### The Markdown cell\n",
    "Markdown is a simplified mechanism to add styling to a text document, it is the \"antidote\" to complex \"Mark up\" languages such as HTML. \n",
    "In markdown you can quickly add style and features such as images and hyper-links to a document. All of these slides use Markdown."
   ]
  },
  {
   "cell_type": "markdown",
   "metadata": {
    "slideshow": {
     "slide_type": "subslide"
    }
   },
   "source": [
    "### Examples of Markdown:    "
   ]
  },
  {
   "cell_type": "markdown",
   "metadata": {},
   "source": [
    "# Heading level 1\n",
    "## heading level 2"
   ]
  },
  {
   "cell_type": "markdown",
   "metadata": {
    "slideshow": {
     "slide_type": "slide"
    }
   },
   "source": [
    "### Tables can be laid out simply\n",
    "\n",
    "| Tables | Are | Cool |\n",
    "|:--|:-------------:|------:|\n",
    "| col 1 is | left-aligned | \\$1600 |\n",
    "| col 2 is | centered | \\$12 |\n",
    "| col 3 is | right-aligned | \\$1 |\n",
    "| this is | a new column | yay |"
   ]
  },
  {
   "cell_type": "markdown",
   "metadata": {
    "slideshow": {
     "slide_type": "fragment"
    }
   },
   "source": [
    "![Naruto](https://www.fanbolt.com/storage/2022/06/pain-naruto-quotes-800x500.jpg)\n",
    "[I'm a link click me](https://www.fanbolt.com/storage/2022/06/pain-naruto-quotes-800x500.jpg)"
   ]
  },
  {
   "cell_type": "markdown",
   "metadata": {
    "slideshow": {
     "slide_type": "slide"
    }
   },
   "source": [
    "### Other text can be styled\n",
    "_italic text_ \n",
    "__bold text__ \n",
    "```pre-formatted```\n",
    "\n",
    "* bullet 1\n",
    "   * bullet 2\n",
    "      * bullet 3\n",
    "----\n",
    "\n",
    "1. Ordinal list entry\n",
    "1. inserted\n",
    "1. another\n",
    "   1. and a sub list\n",
    "   1. with 2 entries"
   ]
  },
  {
   "cell_type": "markdown",
   "metadata": {
    "slideshow": {
     "slide_type": "slide"
    }
   },
   "source": [
    "## Keyboard shortcuts\n",
    "The keyboard shortcuts are not required but may make things faster for you.\n",
    "\n",
    "### In command mode (blue bar)\n",
    "* A - insert new row before\n",
    "* B - insert new row after\n",
    "* C - Copy row\n",
    "* X - Cut row\n",
    "* V - Paste cut/copied rows AFTER current row\n",
    "* DD - delete row\n",
    "* M - Switch cell to Markup cell\n",
    "* Y - Switch cell to Code cell\n",
    "* enter - move to edit mode\n",
    "\n",
    "### In edit mode (green bar)\n",
    "* ESC - move to command mode\n",
    "* shift-enter - run cell and insert new cell after if at end of notebook.\n",
    "* ctrl-enter - run cell\n",
    "\n"
   ]
  }
 ],
 "metadata": {
  "celltoolbar": "Slideshow",
  "kernelspec": {
   "display_name": "Python 3",
   "language": "python",
   "name": "python3"
  },
  "language_info": {
   "codemirror_mode": {
    "name": "ipython",
    "version": 3
   },
   "file_extension": ".py",
   "mimetype": "text/x-python",
   "name": "python",
   "nbconvert_exporter": "python",
   "pygments_lexer": "ipython3",
   "version": "3.7.6"
  }
 },
 "nbformat": 4,
 "nbformat_minor": 2
}
