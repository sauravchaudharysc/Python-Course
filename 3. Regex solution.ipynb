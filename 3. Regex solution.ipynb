{
 "cells": [
  {
   "cell_type": "code",
   "execution_count": 33,
   "metadata": {},
   "outputs": [],
   "source": [
    "import re"
   ]
  },
  {
   "cell_type": "code",
   "execution_count": 34,
   "metadata": {},
   "outputs": [],
   "source": [
    "test_string='''94.19.17.65 - - [13/Dec/2015:13:41:09 +0100] \"GET /administrator/ HTTP/1.1\" 200 4263 \"-\" \"Mozilla/5.0 (Windows NT 6.0; rv:34.0) Gecko/20100101 Firefox/34.0\" \"-\"'''"
   ]
  },
  {
   "cell_type": "code",
   "execution_count": 35,
   "metadata": {},
   "outputs": [],
   "source": [
    "http_log_matcher = r'^([0-9.]+)[^[]+\\[([^:]+):([0-9]{2}:[0-9]{2}:[0-9]{2})[^]]+]\\s+\"([^\"]+)\"\\s+(\\d+)\\s+(\\d+)\\s+\"-\"\\s+\"([^\"]+)'"
   ]
  },
  {
   "cell_type": "code",
   "execution_count": 36,
   "metadata": {},
   "outputs": [
    {
     "data": {
      "text/plain": [
       "('94.19.17.65',\n",
       " '13/Dec/2015',\n",
       " '13:41:09',\n",
       " 'GET /administrator/ HTTP/1.1',\n",
       " '200',\n",
       " '4263',\n",
       " 'Mozilla/5.0 (Windows NT 6.0; rv:34.0) Gecko/20100101 Firefox/34.0')"
      ]
     },
     "execution_count": 36,
     "metadata": {},
     "output_type": "execute_result"
    }
   ],
   "source": [
    "re.match(http_log_matcher, test_string).groups()"
   ]
  },
  {
   "cell_type": "code",
   "execution_count": 37,
   "metadata": {},
   "outputs": [
    {
     "name": "stdout",
     "output_type": "stream",
     "text": [
      "There were 145  failures in the file\n"
     ]
    }
   ],
   "source": [
    "# not OK request?\n",
    "data = open(\"../data/http-accesslog.txt\")\n",
    "line = data.readline()\n",
    "badreq=0\n",
    "while line:\n",
    "    matched = re.match(http_log_matcher, line)\n",
    "    if(matched):\n",
    "        ip,date,time,request,status,length,browser = matched.groups()\n",
    "        if(int(status) >= 400):\n",
    "            badreq+=1\n",
    "    line = data.readline()\n",
    "print(\"There were\", badreq, \" failures in the file\")\n",
    "data.close()"
   ]
  },
  {
   "cell_type": "code",
   "execution_count": 38,
   "metadata": {},
   "outputs": [
    {
     "name": "stdout",
     "output_type": "stream",
     "text": [
      "188.163.80.234 - - [15/Dec/2015:23:24:31 +0100] \"GET /administrator HTTP/1.1\" 301 256 \"-\" \"Mozilla/5.0 (Windows NT 6.1; WOW64; rv:41.0) Gecko/20100101 Firefox/41.0\" \"-\"\n",
      "\n",
      "188.163.80.234 - - [17/Dec/2015:18:48:54 +0100] \"GET /administrator HTTP/1.1\" 301 256 \"-\" \"Mozilla/5.0 (Windows NT 6.1; WOW64; rv:41.0) Gecko/20100101 Firefox/41.0\" \"-\"\n",
      "\n",
      "There were 2  redirects in the file\n"
     ]
    }
   ],
   "source": [
    "# redirects\n",
    "data = open(\"../data/http-accesslog.txt\")\n",
    "line = data.readline()\n",
    "redirect=0\n",
    "while line:\n",
    "    matched = re.match(http_log_matcher, line)\n",
    "    if(matched):\n",
    "        ip,date,time,request,status,length,browser = matched.groups()\n",
    "        if(int(status) // 100 == 3):\n",
    "            redirect+=1\n",
    "            print(line)\n",
    "    line = data.readline()\n",
    "print(\"There were\", redirect, \" redirects in the file\")\n",
    "data.close()"
   ]
  },
  {
   "cell_type": "code",
   "execution_count": 39,
   "metadata": {},
   "outputs": [
    {
     "name": "stdout",
     "output_type": "stream",
     "text": [
      "There are 22  days in the file\n",
      "The busiest day was 19/Dec/2015\n"
     ]
    }
   ],
   "source": [
    "# Busiest day\n",
    "data = open(\"../data/http-accesslog.txt\")\n",
    "days={}\n",
    "lineno=0\n",
    "line = data.readline()\n",
    "\n",
    "while line:\n",
    "#     if lineno<5:\n",
    "#         print(\"line:\",line)\n",
    "#         lineno+=1\n",
    "    matched = re.match(http_log_matcher, line)\n",
    "    if(matched):\n",
    "        ip,date,time,request,status,length,browser = matched.groups()\n",
    "        if(date in days):\n",
    "            days[date] = days[date]+1\n",
    "        else:\n",
    "            days[date]=1\n",
    "    line = data.readline()\n",
    "print(\"There are\", len(days), \" days in the file\")\n",
    "biggest = 0\n",
    "bigday=\"\"\n",
    "for day in days:\n",
    "    if(days[day]>biggest):\n",
    "        biggest = days[day]\n",
    "        bigday=day\n",
    "print(\"The busiest day was\", bigday)\n",
    "data.close()"
   ]
  },
  {
   "cell_type": "code",
   "execution_count": 40,
   "metadata": {},
   "outputs": [
    {
     "name": "stdout",
     "output_type": "stream",
     "text": [
      "There are 29  in the file\n",
      "The most popular was 1.5.0.1\n",
      "They ran on 4 platforms\n",
      "{'Windows': 2858, 'X11': 33, 'Macintosh': 4, 'Android': 4}\n"
     ]
    }
   ],
   "source": [
    "# broswer analysis\n",
    "# Busiest day\n",
    "data = open(\"../data/http-accesslog.txt\")\n",
    "browsers={}\n",
    "platforms={}\n",
    "lineno=0\n",
    "line = data.readline()\n",
    "\n",
    "while line:\n",
    "#     if lineno<5:\n",
    "#         print(\"line:\",line)\n",
    "#         lineno+=1\n",
    "    matched = re.match(http_log_matcher, line)\n",
    "    if(matched):\n",
    "        ip,date,time,request,status,length,agent = matched.groups()\n",
    "        browser_match = re.search(\"Firefox/([0-9.]+)\", agent)\n",
    "        if browser_match:\n",
    "            version = browser_match.group(1)\n",
    "            if version in browsers:\n",
    "                browsers[version]+=1\n",
    "            else:\n",
    "                browsers[version]=1\n",
    "            os_match = re.search(\"\\((\\w+)\", agent)\n",
    "            if os_match:\n",
    "                os = os_match.group(1)\n",
    "                if os in platforms:\n",
    "                    platforms[os]+=1\n",
    "                else:\n",
    "                    platforms[os]=1\n",
    "    line = data.readline()\n",
    "print(\"There are\", len(browsers), \" in the file\")\n",
    "biggest = 0\n",
    "popular=\"\"\n",
    "for version in browsers:\n",
    "    if(browsers[version]>biggest):\n",
    "        popular=version\n",
    "print(\"The most popular was\", popular)\n",
    "print(\"They ran on\", len(platforms), \"platforms\")\n",
    "print(platforms)\n",
    "data.close()"
   ]
  }
 ],
 "metadata": {
  "kernelspec": {
   "display_name": "Python 3",
   "language": "python",
   "name": "python3"
  },
  "language_info": {
   "codemirror_mode": {
    "name": "ipython",
    "version": 3
   },
   "file_extension": ".py",
   "mimetype": "text/x-python",
   "name": "python",
   "nbconvert_exporter": "python",
   "pygments_lexer": "ipython3",
   "version": "3.7.6"
  }
 },
 "nbformat": 4,
 "nbformat_minor": 2
}
