{
 "cells": [
  {
   "cell_type": "markdown",
   "metadata": {
    "slideshow": {
     "slide_type": "slide"
    }
   },
   "source": [
    "  <center>\n",
    "\n",
    "  # \"My hovercraft is full of eels\"\n",
    "  ## Understanding python\n",
    "  </center>\n"
   ]
  },
  {
   "cell_type": "markdown",
   "metadata": {
    "slideshow": {
     "slide_type": "slide"
    }
   },
   "source": [
    "  <img style=\"float: left;margin-right:20px\" width=\"120\" src=\"images/1024px-Python-logo-notext.svg.png\">\n",
    "  <img style=\"float: right;\" width=\"320\" src=\"images/montypython_title.jpg\">\n",
    "\n",
    "  # The Python Programming Language\n",
    "  <br><br><br>\n",
    "  However much it may seem otherwise, considering things such as Anaconda, Python's name comes not from the snake but from the British comedy series \"Monty Python's Flying Circus.\n",
    "\n",
    "  It was invented by a Dutch Software engineer by the name of Guido Van Rossum and was first released in 1989.\n",
    "  The only supported versions (as at July 2022) are Python 3.x, however you may well encounter older Python 2.x code.\n",
    "\n",
    "\n"
   ]
  },
  {
   "cell_type": "markdown",
   "metadata": {
    "slideshow": {
     "slide_type": "slide"
    }
   },
   "source": [
    "  # Python Basics\n",
    "By the end of this module, you will have learned enough python to develop your own python scripts for task such as \n",
    "* process automation \n",
    "* data science\n",
    "\n",
    "In this introductory section we will look at the basics of the python programming language.\n",
    "\n",
    "This will also give you an opportunity to get a feel for using the Jupyter environment to write and run code. The basic code we cover here will form the building blocks of the code.\n",
    "\n",
    "  ## Synopsis\n",
    "\n",
    "  This notebook will explain the following topics and concepts:\n",
    "\n",
    "  - Basic Maths, built-in types\n",
    "  - Variables and expressions\n",
    "  - Mutable and immutable values\n",
    "  - Collections\n",
    "  - Flow control, functions and code reuse\n",
    "  - Slices"
   ]
  },
  {
   "cell_type": "markdown",
   "metadata": {
    "slideshow": {
     "slide_type": "slide"
    }
   },
   "source": [
    "  ## Basic Mathematics\n",
    "  We'll run each of the code cells below to see some basic mathematical operations."
   ]
  },
  {
   "cell_type": "markdown",
   "metadata": {
    "slideshow": {
     "slide_type": "fragment"
    }
   },
   "source": [
    "  1 plus 9 plus 29"
   ]
  },
  {
   "cell_type": "code",
   "execution_count": 1,
   "metadata": {},
   "outputs": [
    {
     "data": {
      "text/plain": [
       "37"
      ]
     },
     "execution_count": 1,
     "metadata": {},
     "output_type": "execute_result"
    }
   ],
   "source": [
    "1+9+27"
   ]
  },
  {
   "cell_type": "markdown",
   "metadata": {},
   "source": [
    "  2 times 9 times 10"
   ]
  },
  {
   "cell_type": "code",
   "execution_count": 2,
   "metadata": {},
   "outputs": [
    {
     "data": {
      "text/plain": [
       "180"
      ]
     },
     "execution_count": 2,
     "metadata": {},
     "output_type": "execute_result"
    }
   ],
   "source": [
    "2*9*10"
   ]
  },
  {
   "cell_type": "markdown",
   "metadata": {},
   "source": [
    "  2 times 3 + 12"
   ]
  },
  {
   "cell_type": "code",
   "execution_count": 3,
   "metadata": {},
   "outputs": [
    {
     "data": {
      "text/plain": [
       "19"
      ]
     },
     "execution_count": 3,
     "metadata": {},
     "output_type": "execute_result"
    }
   ],
   "source": [
    "2*3+13"
   ]
  },
  {
   "cell_type": "markdown",
   "metadata": {
    "slideshow": {
     "slide_type": "subslide"
    }
   },
   "source": [
    " ## Brackets/Parentheses\n",
    " Python will follow \"PEMDAS\" (aka \"BODMAS\"), but it's good practice to use parentheses for clarity and readability"
   ]
  },
  {
   "cell_type": "code",
   "execution_count": 4,
   "metadata": {
    "slideshow": {
     "slide_type": "fragment"
    }
   },
   "outputs": [
    {
     "data": {
      "text/plain": [
       "18"
      ]
     },
     "execution_count": 4,
     "metadata": {},
     "output_type": "execute_result"
    }
   ],
   "source": [
    "(2*3)+12"
   ]
  },
  {
   "cell_type": "markdown",
   "metadata": {},
   "source": [
    "  spaces help also - see how the brackets change the result"
   ]
  },
  {
   "cell_type": "code",
   "execution_count": 5,
   "metadata": {},
   "outputs": [
    {
     "data": {
      "text/plain": [
       "30"
      ]
     },
     "execution_count": 5,
     "metadata": {},
     "output_type": "execute_result"
    }
   ],
   "source": [
    "2 * ( 3 + 12 )"
   ]
  },
  {
   "cell_type": "markdown",
   "metadata": {},
   "source": [
    "  [  (3+4) squared  ] – [  (4 - 2) squared  ]"
   ]
  },
  {
   "cell_type": "code",
   "execution_count": 6,
   "metadata": {},
   "outputs": [
    {
     "data": {
      "text/plain": [
       "45"
      ]
     },
     "execution_count": 6,
     "metadata": {},
     "output_type": "execute_result"
    }
   ],
   "source": [
    "(3+4)**2 - (4-2)**2"
   ]
  },
  {
   "cell_type": "markdown",
   "metadata": {},
   "source": [
    "  remainder of 7 divided by 4"
   ]
  },
  {
   "cell_type": "code",
   "execution_count": 7,
   "metadata": {},
   "outputs": [
    {
     "data": {
      "text/plain": [
       "3"
      ]
     },
     "execution_count": 7,
     "metadata": {},
     "output_type": "execute_result"
    }
   ],
   "source": [
    "7 % 4"
   ]
  },
  {
   "cell_type": "markdown",
   "metadata": {
    "cell_style": "split",
    "slideshow": {
     "slide_type": "slide"
    }
   },
   "source": [
    "  ## Common Operators\n",
    "  Python supports a wide-range of mathematical operators natively. Here are some of the most common ones that you are likely to come across.\n",
    "\n",
    " <div style=\"align:left\">\n",
    "\n",
    " | Operator | Meaning |\n",
    " |:-------------|:---------------|\n",
    " | a+b | addition |\n",
    " | a-b | subtraction |\n",
    " | a*b | multiplication |\n",
    " | a/b | division |\n",
    " | a//b | floor |\n",
    " | a%b | modulo |\n",
    " | -a | negation |\n",
    " | abs(a) | absolute value |\n",
    " | a**b | exponent |\n",
    " | math.sqrt(a) | square root |\n",
    "\n",
    " </div>\n",
    "\n",
    " Let's try out a few that might be less familiar to some of you."
   ]
  },
  {
   "cell_type": "markdown",
   "metadata": {
    "cell_style": "split",
    "slideshow": {
     "slide_type": "subslide"
    }
   },
   "source": [
    "<img style=\"float: right;\" width=\"60\" src=\"images/tux-penguin.png\">\n",
    "\n",
    " ### Floor division vs. Regular division"
   ]
  },
  {
   "cell_type": "code",
   "execution_count": 8,
   "metadata": {
    "cell_style": "split"
   },
   "outputs": [
    {
     "data": {
      "text/plain": [
       "3.5"
      ]
     },
     "execution_count": 8,
     "metadata": {},
     "output_type": "execute_result"
    }
   ],
   "source": [
    "7/2"
   ]
  },
  {
   "cell_type": "code",
   "execution_count": 9,
   "metadata": {
    "cell_style": "split"
   },
   "outputs": [
    {
     "data": {
      "text/plain": [
       "3"
      ]
     },
     "execution_count": 9,
     "metadata": {},
     "output_type": "execute_result"
    }
   ],
   "source": [
    "7//2"
   ]
  },
  {
   "cell_type": "markdown",
   "metadata": {
    "cell_style": "split"
   },
   "source": [
    " ### Modulo or Remainder"
   ]
  },
  {
   "cell_type": "code",
   "execution_count": 10,
   "metadata": {
    "cell_style": "split"
   },
   "outputs": [
    {
     "data": {
      "text/plain": [
       "2"
      ]
     },
     "execution_count": 10,
     "metadata": {},
     "output_type": "execute_result"
    }
   ],
   "source": [
    "27%5"
   ]
  },
  {
   "cell_type": "markdown",
   "metadata": {
    "cell_style": "split"
   },
   "source": [
    " ### Exponents"
   ]
  },
  {
   "cell_type": "code",
   "execution_count": 11,
   "metadata": {
    "cell_style": "split"
   },
   "outputs": [
    {
     "data": {
      "text/plain": [
       "31622776.60168379"
      ]
     },
     "execution_count": 11,
     "metadata": {},
     "output_type": "execute_result"
    }
   ],
   "source": [
    "10**7.5"
   ]
  },
  {
   "cell_type": "markdown",
   "metadata": {
    "slideshow": {
     "slide_type": "subslide"
    }
   },
   "source": [
    " ### Square root"
   ]
  },
  {
   "cell_type": "markdown",
   "metadata": {
    "cell_style": "split"
   },
   "source": [
    " Square root is the odd one out in the list. We do not have a surd (\"Tick\") operator and the language does not have a \"native\" square root. Instead we have to use the sqrt() function from the mathematics module (math).\n",
    "\n",
    " Try it now and see what happens."
   ]
  },
  {
   "cell_type": "code",
   "execution_count": 12,
   "metadata": {
    "cell_style": "split",
    "slideshow": {
     "slide_type": "fragment"
    }
   },
   "outputs": [
    {
     "ename": "NameError",
     "evalue": "name 'math' is not defined",
     "output_type": "error",
     "traceback": [
      "\u001b[1;31m---------------------------------------------------------------------------\u001b[0m",
      "\u001b[1;31mNameError\u001b[0m                                 Traceback (most recent call last)",
      "\u001b[1;32m<ipython-input-12-1ea6baf24b04>\u001b[0m in \u001b[0;36m<module>\u001b[1;34m\u001b[0m\n\u001b[1;32m----> 1\u001b[1;33m \u001b[0mmath\u001b[0m\u001b[1;33m.\u001b[0m\u001b[0msqrt\u001b[0m\u001b[1;33m(\u001b[0m\u001b[1;36m49\u001b[0m\u001b[1;33m)\u001b[0m\u001b[1;33m\u001b[0m\u001b[1;33m\u001b[0m\u001b[0m\n\u001b[0m",
      "\u001b[1;31mNameError\u001b[0m: name 'math' is not defined"
     ]
    }
   ],
   "source": [
    "math.sqrt(49)\n"
   ]
  },
  {
   "cell_type": "markdown",
   "metadata": {
    "slideshow": {
     "slide_type": "fragment"
    }
   },
   "source": [
    " # Modules and import\n",
    " In python you can define your own operations, blocks of code that serve a specific purpose that you will use more than once. They are known as functions. We will look at functions later. We have already used one function ```print``` earlier on in the course.\n",
    "\n",
    " Collections of functions are known as modules. This allows people to share collections of code easily and is one of the reasons the python, as a language, is so well-loved. There are modules for almost everything.\n",
    "\n",
    " To use the functions in a module we must \"import\" it. Let's do this now."
   ]
  },
  {
   "cell_type": "markdown",
   "metadata": {
    "slideshow": {
     "slide_type": "slide"
    }
   },
   "source": [
    " # Importing Math\n",
    "\n",
    " To import the mathematics module we simply use the ```import``` keyword\n",
    " \n",
    " The math library includes a number of commonly used mathematical functions and constants such as pi.\n",
    " \n",
    " See https://docs.python.org/3/library/math.html\n",
    " "
   ]
  },
  {
   "cell_type": "code",
   "execution_count": 13,
   "metadata": {
    "slideshow": {
     "slide_type": "fragment"
    }
   },
   "outputs": [],
   "source": [
    "import math"
   ]
  },
  {
   "cell_type": "markdown",
   "metadata": {
    "slideshow": {
     "slide_type": "fragment"
    }
   },
   "source": [
    " We can now try our square root again"
   ]
  },
  {
   "cell_type": "code",
   "execution_count": 14,
   "metadata": {
    "slideshow": {
     "slide_type": "fragment"
    }
   },
   "outputs": [
    {
     "data": {
      "text/plain": [
       "7.0"
      ]
     },
     "execution_count": 14,
     "metadata": {},
     "output_type": "execute_result"
    }
   ],
   "source": [
    "math.sqrt(49)"
   ]
  },
  {
   "cell_type": "markdown",
   "metadata": {
    "cell_style": "split",
    "slideshow": {
     "slide_type": "slide"
    }
   },
   "source": [
    "### Exercise 1\n",
    "- Write python code to do each of the following simple calculations.<br>\n",
    "- You can put them all in one cell, but it is easier to do them one at a time. \n",
    ">- (8 + 15) - 10\n",
    ">- $7^{2}$ - 7 + 12\n",
    ">- 12.2 * 5.7 * $\\frac{1}{4}$\n",
    ">- remainder of 12 divided by 5\n",
    ">- $\\sqrt{4^{2} + 3^{2}}$\n",
    "\n",
    "\n",
    "Notice that by default jupyter will print the result of the last line of code only."
   ]
  },
  {
   "cell_type": "code",
   "execution_count": 15,
   "metadata": {
    "cell_style": "split",
    "slideshow": {
     "slide_type": "fragment"
    }
   },
   "outputs": [
    {
     "data": {
      "text/plain": [
       "13"
      ]
     },
     "execution_count": 15,
     "metadata": {},
     "output_type": "execute_result"
    }
   ],
   "source": [
    "(8+15) - 10"
   ]
  },
  {
   "cell_type": "code",
   "execution_count": 16,
   "metadata": {
    "cell_style": "split"
   },
   "outputs": [
    {
     "data": {
      "text/plain": [
       "54"
      ]
     },
     "execution_count": 16,
     "metadata": {},
     "output_type": "execute_result"
    }
   ],
   "source": [
    "7**2 - 7 + 12"
   ]
  },
  {
   "cell_type": "code",
   "execution_count": 17,
   "metadata": {
    "cell_style": "split"
   },
   "outputs": [
    {
     "data": {
      "text/plain": [
       "17.384999999999998"
      ]
     },
     "execution_count": 17,
     "metadata": {},
     "output_type": "execute_result"
    }
   ],
   "source": [
    "12.2 * 5.7 * 0.25"
   ]
  },
  {
   "cell_type": "code",
   "execution_count": 18,
   "metadata": {
    "cell_style": "split"
   },
   "outputs": [
    {
     "data": {
      "text/plain": [
       "2"
      ]
     },
     "execution_count": 18,
     "metadata": {},
     "output_type": "execute_result"
    }
   ],
   "source": [
    "12%5"
   ]
  },
  {
   "cell_type": "code",
   "execution_count": 19,
   "metadata": {
    "cell_style": "split"
   },
   "outputs": [
    {
     "data": {
      "text/plain": [
       "5.0"
      ]
     },
     "execution_count": 19,
     "metadata": {},
     "output_type": "execute_result"
    }
   ],
   "source": [
    "math.sqrt(4**2 + 3*3)"
   ]
  },
  {
   "cell_type": "markdown",
   "metadata": {
    "slideshow": {
     "slide_type": "slide"
    }
   },
   "source": [
    "  ## Variables\n",
    "\n",
    "  A \"variable\" is a name used to store values\n",
    "\n",
    "  You can save the results of a computation into a variable for later use."
   ]
  },
  {
   "cell_type": "code",
   "execution_count": 20,
   "metadata": {},
   "outputs": [
    {
     "data": {
      "text/plain": [
       "2"
      ]
     },
     "execution_count": 20,
     "metadata": {},
     "output_type": "execute_result"
    }
   ],
   "source": [
    "x  = 1 + 1\n",
    "x\n"
   ]
  },
  {
   "cell_type": "markdown",
   "metadata": {},
   "source": [
    "  Here the contents of x are displayed because it is the last line of code in the cell"
   ]
  },
  {
   "cell_type": "markdown",
   "metadata": {
    "slideshow": {
     "slide_type": "slide"
    }
   },
   "source": [
    "  We can \"print\" the variable x\n",
    "\n",
    "  Here the contents of x will be displayed even if it is not the last line of code in the cell\n",
    "\n",
    "  The contents of the last line are still displayed"
   ]
  },
  {
   "cell_type": "code",
   "execution_count": 21,
   "metadata": {},
   "outputs": [
    {
     "name": "stdout",
     "output_type": "stream",
     "text": [
      "1\n"
     ]
    },
    {
     "data": {
      "text/plain": [
       "8938"
      ]
     },
     "execution_count": 21,
     "metadata": {},
     "output_type": "execute_result"
    }
   ],
   "source": [
    "x = 1\n",
    "print(x) \n",
    "another_variable = 8938\n",
    "another_variable"
   ]
  },
  {
   "cell_type": "markdown",
   "metadata": {},
   "source": [
    "  Re-use the variable x by assigning a new value to it"
   ]
  },
  {
   "cell_type": "code",
   "execution_count": 22,
   "metadata": {},
   "outputs": [
    {
     "data": {
      "text/plain": [
       "2"
      ]
     },
     "execution_count": 22,
     "metadata": {},
     "output_type": "execute_result"
    }
   ],
   "source": [
    "x = x * 2\n",
    "x"
   ]
  },
  {
   "cell_type": "markdown",
   "metadata": {
    "slideshow": {
     "slide_type": "slide"
    }
   },
   "source": [
    "  ### Exercise 2\n",
    "  Can you explain what's happening in the next four code cells?\n",
    "\n",
    "  Refer to the \"Common operators\" list above for details on the operations."
   ]
  },
  {
   "cell_type": "code",
   "execution_count": 23,
   "metadata": {},
   "outputs": [
    {
     "name": "stdout",
     "output_type": "stream",
     "text": [
      "18\n"
     ]
    }
   ],
   "source": [
    "x = (2 * 3)\n",
    "y = 12\n",
    "\n",
    "z = x + y\n",
    "\n",
    "print(z)"
   ]
  },
  {
   "cell_type": "code",
   "execution_count": 24,
   "metadata": {},
   "outputs": [
    {
     "name": "stdout",
     "output_type": "stream",
     "text": [
      "2.5\n"
     ]
    },
    {
     "data": {
      "text/plain": [
       "3.5"
      ]
     },
     "execution_count": 24,
     "metadata": {},
     "output_type": "execute_result"
    }
   ],
   "source": [
    "x = 5 / 2\n",
    "print(x)\n",
    "x = x + 1\n",
    "x"
   ]
  },
  {
   "cell_type": "code",
   "execution_count": 25,
   "metadata": {
    "slideshow": {
     "slide_type": "-"
    }
   },
   "outputs": [
    {
     "name": "stdout",
     "output_type": "stream",
     "text": [
      "2\n"
     ]
    }
   ],
   "source": [
    "x = 5 // 2\n",
    "print(x)"
   ]
  },
  {
   "cell_type": "code",
   "execution_count": 26,
   "metadata": {
    "cell_style": "split"
   },
   "outputs": [
    {
     "name": "stdout",
     "output_type": "stream",
     "text": [
      "1\n"
     ]
    }
   ],
   "source": [
    "y = 5 % 2\n",
    "print(y)"
   ]
  },
  {
   "cell_type": "markdown",
   "metadata": {
    "slideshow": {
     "slide_type": "slide"
    }
   },
   "source": [
    "# Lab 1 - Applying our mathematical skills\n",
    "\n",
    "In a new Notebook.\n",
    "\n",
    "a) Given a radius, r. Calculate the diameter, area and circumference of a circle of radius r.\n",
    "\n",
    "b) print out a short report.\n",
    "\n",
    "c) Now add the surface area of a correpsonding sphere and its volume."
   ]
  },
  {
   "cell_type": "markdown",
   "metadata": {
    "slideshow": {
     "slide_type": "slide"
    }
   },
   "source": [
    "# Numbers, Strings and Text\n",
    "Up to now we have looked at numbers almost exclusively.\n",
    "You will have noticed that you do not have to specify the type like you might in C++ or Java. \n",
    "Python employs what is known as \"Duck Typing\". We will examine that shortly.\n",
    "  \n",
    "However, as we dig deeper we will find that Python has a notion of different kinds of Numeric values, we will concern ourselves with only Integer (whole numbers) and Floating point (real numbers, decimal fractions). \n",
    "  "
   ]
  },
  {
   "cell_type": "code",
   "execution_count": 27,
   "metadata": {},
   "outputs": [
    {
     "name": "stdout",
     "output_type": "stream",
     "text": [
      "X: <class 'float'> Y: <class 'float'> Z: <class 'int'>\n",
      "Z now: <class 'float'>\n"
     ]
    }
   ],
   "source": [
    "x=12.1\n",
    "y=x//5\n",
    "z=4\n",
    "print(\"X:\", type(x), \"Y:\", type(y), \"Z:\", type(z))\n",
    "z=3.2\n",
    "print(\"Z now:\", type(z))"
   ]
  },
  {
   "cell_type": "markdown",
   "metadata": {
    "slideshow": {
     "slide_type": "slide"
    }
   },
   "source": [
    "## The truth about Booleans\n",
    "A boolean is a special type of number used extensively in programming. It is commonly considered as having a value of 1 or 0. In python, a boolean has a special value either True or False (note the capitalisation)\n"
   ]
  },
  {
   "cell_type": "code",
   "execution_count": 28,
   "metadata": {},
   "outputs": [
    {
     "name": "stdout",
     "output_type": "stream",
     "text": [
      "<class 'bool'>\n"
     ]
    },
    {
     "data": {
      "text/plain": [
       "True"
      ]
     },
     "execution_count": 28,
     "metadata": {},
     "output_type": "execute_result"
    }
   ],
   "source": [
    "j=( 6 == 2*3 )\n",
    "print(type(j))\n",
    "j"
   ]
  },
  {
   "cell_type": "markdown",
   "metadata": {
    "slideshow": {
     "slide_type": "slide"
    }
   },
   "source": [
    "## Strings\n",
    "Strings are the second most common type of fundamental data. For the most part any other object that you later create or represent in Python will be composed of a number of numeric and string values. A string is simply a collection of one or more characters. Where a character is typically any symbol, letter, number, etc that is able to be typed on your keyboard. The order of those characters is maintained, as if they were threaded on a string. \n",
    "\n",
    "We can use single quotes ```'``` or ```\"``` double quotes to define a string"
   ]
  },
  {
   "cell_type": "code",
   "execution_count": 29,
   "metadata": {
    "slideshow": {
     "slide_type": "fragment"
    }
   },
   "outputs": [],
   "source": [
    "A='Hello'\n",
    "B=\"World\""
   ]
  },
  {
   "cell_type": "markdown",
   "metadata": {},
   "source": [
    "We use three quotes to delimit multi line strings."
   ]
  },
  {
   "cell_type": "code",
   "execution_count": 30,
   "metadata": {},
   "outputs": [
    {
     "name": "stdout",
     "output_type": "stream",
     "text": [
      "*A Haiku to live by*\n",
      "\n",
      "Yesterday 'it' \"worked\"\n",
      "Today it is not working\n",
      "Coding is like that\n"
     ]
    }
   ],
   "source": [
    "multiLine = \"\"\"*A Haiku to live by*\n",
    "\n",
    "Yesterday 'it' \"worked\"\n",
    "Today it is not working\n",
    "Coding is like that\"\"\"\n",
    "print(multiLine)"
   ]
  },
  {
   "cell_type": "markdown",
   "metadata": {
    "slideshow": {
     "slide_type": "subslide"
    }
   },
   "source": [
    "  strings can be concatenated using the + operator"
   ]
  },
  {
   "cell_type": "code",
   "execution_count": 31,
   "metadata": {
    "slideshow": {
     "slide_type": "fragment"
    }
   },
   "outputs": [
    {
     "name": "stdout",
     "output_type": "stream",
     "text": [
      "Hello, World\n"
     ]
    }
   ],
   "source": [
    "C = A + \", \" + B\n",
    "print(C)"
   ]
  },
  {
   "cell_type": "markdown",
   "metadata": {
    "slideshow": {
     "slide_type": "subslide"
    }
   },
   "source": [
    "  Length of a string"
   ]
  },
  {
   "cell_type": "code",
   "execution_count": 32,
   "metadata": {
    "slideshow": {
     "slide_type": "fragment"
    }
   },
   "outputs": [
    {
     "name": "stdout",
     "output_type": "stream",
     "text": [
      "5\n"
     ]
    }
   ],
   "source": [
    "C = len(A)\n",
    "print(C)\n"
   ]
  },
  {
   "cell_type": "markdown",
   "metadata": {
    "slideshow": {
     "slide_type": "fragment"
    }
   },
   "source": [
    "  Print can take an expression as an argument and print the expressions result\n",
    "\n",
    "  e.g. the length of A,\" \" and B\n"
   ]
  },
  {
   "cell_type": "code",
   "execution_count": 33,
   "metadata": {},
   "outputs": [
    {
     "name": "stdout",
     "output_type": "stream",
     "text": [
      "12\n"
     ]
    }
   ],
   "source": [
    "print(len(A + \", \" + B))"
   ]
  },
  {
   "cell_type": "markdown",
   "metadata": {
    "slideshow": {
     "slide_type": "subslide"
    }
   },
   "source": [
    "  Locate the position of the 1st occurence of a given character in a string\n",
    "\n",
    "  e.g. 'l'"
   ]
  },
  {
   "cell_type": "code",
   "execution_count": 34,
   "metadata": {},
   "outputs": [
    {
     "name": "stdout",
     "output_type": "stream",
     "text": [
      "2\n"
     ]
    },
    {
     "data": {
      "text/plain": [
       "'Hello'"
      ]
     },
     "execution_count": 34,
     "metadata": {},
     "output_type": "execute_result"
    }
   ],
   "source": [
    "print(A.index('l'))\n",
    "A"
   ]
  },
  {
   "cell_type": "markdown",
   "metadata": {
    "slideshow": {
     "slide_type": "fragment"
    }
   },
   "source": [
    "  Counting the occurrences of a letter within a string\n",
    "\n",
    "  how many H's, l's and B's\n"
   ]
  },
  {
   "cell_type": "code",
   "execution_count": 35,
   "metadata": {},
   "outputs": [
    {
     "name": "stdout",
     "output_type": "stream",
     "text": [
      "1\n",
      "2\n",
      "0\n"
     ]
    }
   ],
   "source": [
    "print(A.count('H'))\n",
    "print(A.count('l'))\n",
    "print(A.count('B'))"
   ]
  },
  {
   "cell_type": "markdown",
   "metadata": {
    "cell_style": "split",
    "slideshow": {
     "slide_type": "slide"
    }
   },
   "source": [
    "### More String Functions\n",
    "\n",
    "upper() - return a new string, the uppercase representation of the original\n",
    "\n",
    "lower() - return a new string, the uppercase representation of the original\n",
    "\n",
    "### Note: Strings are \"immutable\" a new string is returned, the existing string is \"read only\"\n",
    "\n",
    "startswith() - return a ``boolean`` (True or False) if the string starts with the specified string.\n",
    "\n",
    "endswith() - return a ``boolean`` (True or False) if the string starts with the specified string.\n",
    "\n",
    "### Full documentation on strings\n",
    "Documentation on common string operations can be found here - https://docs.python.org/3/library/string.html\n"
   ]
  },
  {
   "cell_type": "code",
   "execution_count": 36,
   "metadata": {
    "cell_style": "split",
    "slideshow": {
     "slide_type": "slide"
    }
   },
   "outputs": [],
   "source": [
    "# Create a \"Hello, World\" string from A and B (note the punctuation.)\n",
    "hello_world = A + \", \" + B"
   ]
  },
  {
   "cell_type": "code",
   "execution_count": 37,
   "metadata": {
    "cell_style": "split"
   },
   "outputs": [
    {
     "name": "stdout",
     "output_type": "stream",
     "text": [
      "HELLO, WORLD\n"
     ]
    }
   ],
   "source": [
    "print(hello_world.upper())"
   ]
  },
  {
   "cell_type": "code",
   "execution_count": 38,
   "metadata": {
    "cell_style": "split"
   },
   "outputs": [
    {
     "name": "stdout",
     "output_type": "stream",
     "text": [
      "False\n"
     ]
    }
   ],
   "source": [
    "print(hello_world.upper().endswith(\"rld\"))"
   ]
  },
  {
   "cell_type": "code",
   "execution_count": 39,
   "metadata": {
    "cell_style": "split"
   },
   "outputs": [
    {
     "name": "stdout",
     "output_type": "stream",
     "text": [
      "True\n"
     ]
    }
   ],
   "source": [
    "print(hello_world.lower().startswith(\"hell\"))"
   ]
  },
  {
   "cell_type": "markdown",
   "metadata": {
    "slideshow": {
     "slide_type": "slide"
    }
   },
   "source": [
    "  ### Exercise\n",
    "  Complete the following steps in a single code cell\n",
    "  1. Create a string containing your first name and assign it to a variable called \"first_name\"\n",
    "  2. Create a string containing your last name and assign it to a variable called \"last_name\"\n",
    "  3. Print both strings on one line with a space between them\n",
    "  4. Concatenate the strings  with a space between them, and store the result in a new variable called \"full_name\"\n",
    "  5. Print the length of the full_name string\n",
    "  5. Print how many times the first letter of your name appears in the entire full_name string"
   ]
  },
  {
   "cell_type": "code",
   "execution_count": 40,
   "metadata": {},
   "outputs": [
    {
     "name": "stdout",
     "output_type": "stream",
     "text": [
      "Sherlock Holmes\n",
      "Sherlock Holmes\n",
      "15\n",
      "1\n"
     ]
    }
   ],
   "source": [
    "first_name = \"Sherlock\"\n",
    "last_name = \"Holmes\"\n",
    "print(first_name, last_name)\n",
    "print(first_name+\" \"+last_name)\n",
    "full_name=first_name+\" \"+last_name\n",
    "print(len(full_name))\n",
    "print(full_name.lower().count(full_name.lower()[3]))"
   ]
  },
  {
   "cell_type": "markdown",
   "metadata": {
    "cell_style": "split",
    "slideshow": {
     "slide_type": "slide"
    }
   },
   "source": [
    "  ### Slicing Strings\n",
    "\n",
    "  Slicing is a way to select a subsection of a string.\n",
    "\n",
    "  The same slicing notation is used in Python to get a subsection of many other types of data e.g. lists of data, tables of data etc.\n",
    "\n",
    "  Because of this, slicing is an important topic and a rudimentary understanding is needed before we move on to manipulating tables.\n",
    "\n",
    "  In Python, collections of data almost always call the first position 0 (ZERO) i.e. NOT 1\n",
    "\n",
    "  The general syntax for slicing is:\n",
    "  >string_to_slice [start : stop : step]\n",
    "\n",
    "  - **start** is the position to start the slice from\n",
    "  - **stop** is the position AFTER the end of the slice\n",
    "  - **step** is how many steps between each item (steps of 2, 3, 4, etc.)\n",
    "    - If step is left out then a value of 1 is assumed\n",
    "    \n",
    "Negative positions for start and stop are treated as offsets from the end with -1 being the last letter (there is no negative 0)\n"
   ]
  },
  {
   "cell_type": "code",
   "execution_count": 41,
   "metadata": {
    "cell_style": "split",
    "slideshow": {
     "slide_type": "subslide"
    }
   },
   "outputs": [
    {
     "name": "stdout",
     "output_type": "stream",
     "text": [
      "Hello, World\n"
     ]
    }
   ],
   "source": [
    "# check that we still have our \"Hello World\" string\n",
    "print(hello_world)"
   ]
  },
  {
   "cell_type": "markdown",
   "metadata": {
    "cell_style": "split"
   },
   "source": [
    "  Now slice the string to display:\n",
    "\n",
    "  >lo, Wor"
   ]
  },
  {
   "cell_type": "code",
   "execution_count": 42,
   "metadata": {
    "cell_style": "split"
   },
   "outputs": [
    {
     "data": {
      "text/plain": [
       "'lo, Wor'"
      ]
     },
     "execution_count": 42,
     "metadata": {},
     "output_type": "execute_result"
    }
   ],
   "source": [
    "hello_world[3:-2]"
   ]
  },
  {
   "cell_type": "markdown",
   "metadata": {
    "cell_style": "split"
   },
   "source": [
    "  Now slice the string to display l Wr"
   ]
  },
  {
   "cell_type": "code",
   "execution_count": 43,
   "metadata": {
    "cell_style": "split"
   },
   "outputs": [
    {
     "data": {
      "text/plain": [
       "'l,Wr'"
      ]
     },
     "execution_count": 43,
     "metadata": {},
     "output_type": "execute_result"
    }
   ],
   "source": [
    "hello_world[3:10:2]"
   ]
  },
  {
   "cell_type": "markdown",
   "metadata": {
    "slideshow": {
     "slide_type": "subslide"
    }
   },
   "source": [
    "## More fun with slicing\n",
    "If we leave out \"start\" then the beginning of the string is assumed"
   ]
  },
  {
   "cell_type": "code",
   "execution_count": 44,
   "metadata": {},
   "outputs": [
    {
     "data": {
      "text/plain": [
       "'Hello, '"
      ]
     },
     "execution_count": 44,
     "metadata": {},
     "output_type": "execute_result"
    }
   ],
   "source": [
    "hello_world[:7]"
   ]
  },
  {
   "cell_type": "markdown",
   "metadata": {},
   "source": [
    "  If we leave out \"stop\" then the end of the string is assumed"
   ]
  },
  {
   "cell_type": "code",
   "execution_count": 45,
   "metadata": {},
   "outputs": [
    {
     "data": {
      "text/plain": [
       "'l r'"
      ]
     },
     "execution_count": 45,
     "metadata": {},
     "output_type": "execute_result"
    }
   ],
   "source": [
    "hello_world[3::3]"
   ]
  },
  {
   "cell_type": "markdown",
   "metadata": {},
   "source": [
    "We can mix negative and postive start and stop. Normally, Start must be before stop however we can have a negative step too."
   ]
  },
  {
   "cell_type": "code",
   "execution_count": 46,
   "metadata": {},
   "outputs": [
    {
     "data": {
      "text/plain": [
       "'dlroW ,olleH'"
      ]
     },
     "execution_count": 46,
     "metadata": {},
     "output_type": "execute_result"
    }
   ],
   "source": [
    "hello_world[-1::-1]"
   ]
  },
  {
   "cell_type": "markdown",
   "metadata": {
    "slideshow": {
     "slide_type": "slide"
    }
   },
   "source": [
    "  ### Splitting Strings\n",
    "  We can split strings using the built-in `split` function.\n",
    "  \n",
    "  By default it splits on spaces, but you can specify other characters"
   ]
  },
  {
   "cell_type": "code",
   "execution_count": 47,
   "metadata": {},
   "outputs": [
    {
     "name": "stdout",
     "output_type": "stream",
     "text": [
      "['Once', 'upon', 'a', 'time.']\n"
     ]
    }
   ],
   "source": [
    "C = \"Once upon a time.\"\n",
    "words = C.split()\n",
    "print(words)"
   ]
  },
  {
   "cell_type": "code",
   "execution_count": 48,
   "metadata": {},
   "outputs": [
    {
     "data": {
      "text/plain": [
       "['EUR', 'USD', 'JPY', 'INR', 'GBP']"
      ]
     },
     "execution_count": 48,
     "metadata": {},
     "output_type": "execute_result"
    }
   ],
   "source": [
    "currencies = \"EUR, USD, JPY, INR, GBP\"\n",
    "currencies.split(', ')"
   ]
  },
  {
   "cell_type": "markdown",
   "metadata": {
    "cell_style": "split",
    "slideshow": {
     "slide_type": "slide"
    }
   },
   "source": [
    "  ### Exercise\n",
    "  Complete the following steps in a single cell:\n",
    "  1. Create a string \"Institutional Clients Group Technology\" in a variable called test_string\n",
    "  2. Using Slicing, print the following sections of the test_string:\n",
    "      - Inst\n",
    "      - Tech\n",
    "      - Clients\n",
    "      - ology\n",
    "  3. Print the list of strings produced when you split this string at each space\n",
    "  4. Print the number of strings in the list from Q3"
   ]
  },
  {
   "cell_type": "code",
   "execution_count": 49,
   "metadata": {
    "cell_style": "split",
    "slideshow": {
     "slide_type": "fragment"
    }
   },
   "outputs": [
    {
     "name": "stdout",
     "output_type": "stream",
     "text": [
      "Inst\n",
      "Tech\n",
      "Clients\n",
      "ology\n"
     ]
    },
    {
     "data": {
      "text/plain": [
       "['Institutional', 'Clients', 'Group', 'Technology']"
      ]
     },
     "execution_count": 49,
     "metadata": {},
     "output_type": "execute_result"
    }
   ],
   "source": [
    "test_string=\"Institutional Clients Group Technology\"\n",
    "print(test_string[:4])\n",
    "print(test_string[-10:-6])\n",
    "print(test_string[14:21:])\n",
    "print(test_string[-5::])\n",
    "test_string.split()"
   ]
  },
  {
   "cell_type": "markdown",
   "metadata": {
    "slideshow": {
     "slide_type": "skip"
    }
   },
   "source": [
    "# And now for something completely different - More python\n",
    "## Contents\n",
    "\n",
    "- Conditionals - If / If Else \n",
    "\n",
    "- Loops - For / While"
   ]
  },
  {
   "cell_type": "markdown",
   "metadata": {
    "slideshow": {
     "slide_type": "slide"
    }
   },
   "source": [
    "# Conditionals\n",
    "\n",
    "We often want to test if a condition is True or False.\n",
    "\n",
    "There are a number of conditional operators in Python:\n",
    "- **==** : Check if two elements are equal\n",
    "- **!=** : NOT Equal\n",
    "- **>**  : Greater than\n",
    "- **>=** : Greater than OR equal to\n",
    "- **<**  : Less than\n",
    "- **<=** : Less than OR equal to\n",
    "\n",
    "    >Notice the difference between \"a single equals\" and \"double equals\"\n",
    "    >- A single equals makes a variable equal to something (assignment)\n",
    "    >- Double equals is \"asking\" if two statements are the same (querying)\n"
   ]
  },
  {
   "cell_type": "markdown",
   "metadata": {
    "slideshow": {
     "slide_type": "slide"
    }
   },
   "source": [
    "### Some conditional checks"
   ]
  },
  {
   "cell_type": "code",
   "execution_count": 50,
   "metadata": {},
   "outputs": [
    {
     "name": "stdout",
     "output_type": "stream",
     "text": [
      "x == y is False\n",
      "x != y is True\n",
      "x > y  is False\n",
      "x < y  is True\n",
      "x >= y is False\n",
      "x <= y is True\n"
     ]
    }
   ],
   "source": [
    "x = 10\n",
    "y = 12\n",
    "\n",
    "# Output: x == y is False\n",
    "print('x == y is', x == y)\n",
    "\n",
    "# Output: x != y is True\n",
    "print('x != y is', x != y)\n",
    "\n",
    "# Output: x > y is False\n",
    "print('x > y  is', x > y)\n",
    "\n",
    "# Output: x < y is True\n",
    "print('x < y  is', x < y)\n",
    "\n",
    "# Output: x >= y is False\n",
    "print('x >= y is', x >= y)\n",
    "\n",
    "# Output: x <= y is True\n",
    "print('x <= y is', x <= y)"
   ]
  },
  {
   "cell_type": "markdown",
   "metadata": {
    "slideshow": {
     "slide_type": "slide"
    }
   },
   "source": [
    "### Branching with \"if\"\n",
    "\n",
    "We can use \"if\" or \"if/else\" to execute lines of code based on whether a condition is True or False.\n",
    "\n",
    ">Notice that Python uses indentation to show that code is \"inside\" an \"if\" statement.<br>\n",
    ">Many other languages use brackets for this."
   ]
  },
  {
   "cell_type": "code",
   "execution_count": 51,
   "metadata": {},
   "outputs": [
    {
     "name": "stdout",
     "output_type": "stream",
     "text": [
      "this is always printed\n"
     ]
    }
   ],
   "source": [
    "num = -3\n",
    "\n",
    "if num > 0:\n",
    "    print(num, \"is postiive\")\n",
    "    \n",
    "print(\"this is always printed\")"
   ]
  },
  {
   "cell_type": "markdown",
   "metadata": {
    "slideshow": {
     "slide_type": "subslide"
    }
   },
   "source": [
    "## Branching with \"if/else\"\n",
    "\n",
    "We can also add an \"else\""
   ]
  },
  {
   "cell_type": "code",
   "execution_count": 52,
   "metadata": {},
   "outputs": [
    {
     "name": "stdout",
     "output_type": "stream",
     "text": [
      "0 is zero\n",
      "this is always printed\n"
     ]
    }
   ],
   "source": [
    "num = 0\n",
    "\n",
    "if num > 0:\n",
    "    print(num, \"is postiive\")\n",
    "elif num <0:\n",
    "    print(num, \"is negative\")\n",
    "else:\n",
    "    print(num, \"is zero\")\n",
    "    \n",
    "print(\"this is always printed\")"
   ]
  },
  {
   "cell_type": "markdown",
   "metadata": {
    "slideshow": {
     "slide_type": "slide"
    }
   },
   "source": [
    "# Loops and control flow"
   ]
  },
  {
   "cell_type": "markdown",
   "metadata": {},
   "source": [
    "We will cover other types of loops later, but some of the basic concepts deserve a quick look.\n",
    "\n",
    "All loops are basically the same conceptually.\n",
    "1. Do a task\n",
    "1. Check if we have met an exit condition\n",
    "1. if not go back to step 1\n",
    "1. finished\n",
    "\n",
    "They mainly differ in how they express the exit.\n",
    "\n",
    "We will look at For Loops and While Loops"
   ]
  },
  {
   "cell_type": "markdown",
   "metadata": {
    "slideshow": {
     "slide_type": "slide"
    }
   },
   "source": [
    "### For loop\n",
    "For loops are simple counting loops, they are used to count (or \"iterate\") from some defined start point to the defined end point.\n",
    "\n",
    "For number ranges we use the ```range``` command,which like a string slice, takes a start, stop and am (optional) step."
   ]
  },
  {
   "cell_type": "code",
   "execution_count": 53,
   "metadata": {},
   "outputs": [
    {
     "name": "stdout",
     "output_type": "stream",
     "text": [
      "1\n",
      "4\n",
      "7\n"
     ]
    }
   ],
   "source": [
    "for i in range(1,10,3):\n",
    "    print(i)"
   ]
  },
  {
   "cell_type": "markdown",
   "metadata": {
    "slideshow": {
     "slide_type": "slide"
    }
   },
   "source": [
    "### While loop\n",
    "The while loop is generally used for more open-ended iteration where an explicit count is not so obvious. It can still be used for explicit loops:"
   ]
  },
  {
   "cell_type": "code",
   "execution_count": 54,
   "metadata": {},
   "outputs": [
    {
     "name": "stdout",
     "output_type": "stream",
     "text": [
      "0\n",
      "1\n",
      "2\n",
      "3\n",
      "4\n"
     ]
    }
   ],
   "source": [
    "i=0\n",
    "while i<5:\n",
    "    print(i)\n",
    "    i=i+1"
   ]
  },
  {
   "cell_type": "markdown",
   "metadata": {},
   "source": [
    "But is more commonly used for generic looping"
   ]
  },
  {
   "cell_type": "code",
   "execution_count": 56,
   "metadata": {},
   "outputs": [
    {
     "name": "stdout",
     "output_type": "stream",
     "text": [
      "do you understand?no\n",
      "do you understand?yes\n"
     ]
    }
   ],
   "source": [
    "answer=\"\"\n",
    "while answer != \"yes\":\n",
    "    answer = input(\"do you understand?\")"
   ]
  },
  {
   "cell_type": "markdown",
   "metadata": {
    "slideshow": {
     "slide_type": "slide"
    }
   },
   "source": [
    "  # Python Collections\n",
    "\n",
    "  Python has a number of ways to store \"collections\" of values."
   ]
  },
  {
   "cell_type": "markdown",
   "metadata": {
    "cell_style": "split",
    "slideshow": {
     "slide_type": "-"
    }
   },
   "source": [
    "   - **List** `[1,\"A\", True, 3.14 ]`\n",
    "      - ordered\n",
    "      - changeable\n",
    "      - allows duplicates\n",
    "   - **Tuple** `(1,\"A\", True, 3.14 )`\n",
    "      - ordered\n",
    "      - unchangeable\n",
    "      - allows duplicates\n",
    "   - **Set** `{1,\"A\", True, 3.14 }`\n",
    "      - unordered\n",
    "      - changeable\n",
    "      - unindexed\n",
    "      - no duplicates\n",
    "   - **Dictionary** `{ 'K1':1, 'K2':\"A\", 'K3':True, 'K4\":3.14 }`\n",
    "      - unordered\n",
    "      - changeable\n",
    "      - indexed\n",
    "      - no duplicates"
   ]
  },
  {
   "cell_type": "markdown",
   "metadata": {
    "slideshow": {
     "slide_type": "slide"
    }
   },
   "source": [
    "# Lists"
   ]
  },
  {
   "cell_type": "markdown",
   "metadata": {
    "cell_style": "split",
    "slideshow": {
     "slide_type": "-"
    }
   },
   "source": [
    " ### Empty List"
   ]
  },
  {
   "cell_type": "code",
   "execution_count": 57,
   "metadata": {
    "cell_style": "split",
    "slideshow": {
     "slide_type": "-"
    }
   },
   "outputs": [
    {
     "name": "stdout",
     "output_type": "stream",
     "text": [
      "[]\n"
     ]
    }
   ],
   "source": [
    "my_list = []\n",
    "print(my_list)"
   ]
  },
  {
   "cell_type": "markdown",
   "metadata": {
    "cell_style": "split"
   },
   "source": [
    "  ### List of Integers"
   ]
  },
  {
   "cell_type": "code",
   "execution_count": 58,
   "metadata": {
    "cell_style": "split"
   },
   "outputs": [
    {
     "name": "stdout",
     "output_type": "stream",
     "text": [
      "[1, 2, 3]\n"
     ]
    }
   ],
   "source": [
    "my_list = [1,2,3]\n",
    "print(my_list)"
   ]
  },
  {
   "cell_type": "markdown",
   "metadata": {
    "cell_style": "split"
   },
   "source": [
    "  ### List with mixed data types"
   ]
  },
  {
   "cell_type": "code",
   "execution_count": 59,
   "metadata": {
    "cell_style": "split"
   },
   "outputs": [
    {
     "name": "stdout",
     "output_type": "stream",
     "text": [
      "[1, 'orange', 2.4, True]\n"
     ]
    }
   ],
   "source": [
    "my_list = [1, \"orange\", 2.4, True]\n",
    "print(my_list)"
   ]
  },
  {
   "cell_type": "markdown",
   "metadata": {
    "cell_style": "split"
   },
   "source": [
    "  ### Nested Lists\n",
    "  i.e. lists can contain other lists"
   ]
  },
  {
   "cell_type": "code",
   "execution_count": 60,
   "metadata": {
    "cell_style": "split"
   },
   "outputs": [
    {
     "name": "stdout",
     "output_type": "stream",
     "text": [
      "['mouse', [8, 4, 6], ['a']]\n"
     ]
    }
   ],
   "source": [
    "my_list = [\"mouse\", [8,4,6], ['a']]\n",
    "print(my_list)"
   ]
  },
  {
   "cell_type": "markdown",
   "metadata": {
    "cell_style": "center",
    "slideshow": {
     "slide_type": "slide"
    }
   },
   "source": [
    "  ### List indexing\n",
    "  Similar to strings, we use square brackets to find an element in a list"
   ]
  },
  {
   "cell_type": "code",
   "execution_count": 61,
   "metadata": {},
   "outputs": [
    {
     "name": "stdout",
     "output_type": "stream",
     "text": [
      "p\n"
     ]
    }
   ],
   "source": [
    "my_list = ['p','r','o','b','e']\n",
    "# Outputs: p\n",
    "print(my_list[0])"
   ]
  },
  {
   "cell_type": "code",
   "execution_count": 62,
   "metadata": {},
   "outputs": [
    {
     "name": "stdout",
     "output_type": "stream",
     "text": [
      "o\n"
     ]
    }
   ],
   "source": [
    "print(my_list[2])"
   ]
  },
  {
   "cell_type": "code",
   "execution_count": 63,
   "metadata": {},
   "outputs": [
    {
     "ename": "TypeError",
     "evalue": "list indices must be integers or slices, not float",
     "output_type": "error",
     "traceback": [
      "\u001b[1;31m---------------------------------------------------------------------------\u001b[0m",
      "\u001b[1;31mTypeError\u001b[0m                                 Traceback (most recent call last)",
      "\u001b[1;32m<ipython-input-63-5ed017863070>\u001b[0m in \u001b[0;36m<module>\u001b[1;34m\u001b[0m\n\u001b[0;32m      1\u001b[0m \u001b[1;31m# This cell will throw an Error!\u001b[0m\u001b[1;33m\u001b[0m\u001b[1;33m\u001b[0m\u001b[1;33m\u001b[0m\u001b[0m\n\u001b[0;32m      2\u001b[0m \u001b[1;31m# Try to make sense of the error message - usually the last line contains the most useful information.\u001b[0m\u001b[1;33m\u001b[0m\u001b[1;33m\u001b[0m\u001b[1;33m\u001b[0m\u001b[0m\n\u001b[1;32m----> 3\u001b[1;33m \u001b[0mmy_list\u001b[0m\u001b[1;33m[\u001b[0m\u001b[1;36m4.0\u001b[0m\u001b[1;33m]\u001b[0m\u001b[1;33m\u001b[0m\u001b[1;33m\u001b[0m\u001b[0m\n\u001b[0m",
      "\u001b[1;31mTypeError\u001b[0m: list indices must be integers or slices, not float"
     ]
    }
   ],
   "source": [
    "# This cell will throw an Error!\n",
    "# Try to make sense of the error message - usually the last line contains the most useful information.\n",
    "my_list[4.0]"
   ]
  },
  {
   "cell_type": "markdown",
   "metadata": {
    "slideshow": {
     "slide_type": "slide"
    }
   },
   "source": [
    "  ## Another look at nested lists\n",
    "  As shown above, lists can contain more lists, we use **more** square brackets to get a value from the \"sub list\""
   ]
  },
  {
   "cell_type": "code",
   "execution_count": 64,
   "metadata": {},
   "outputs": [
    {
     "name": "stdout",
     "output_type": "stream",
     "text": [
      "['Happy', [2, 0, 2, 2]]\n",
      "2\n"
     ]
    }
   ],
   "source": [
    "# Nested List\n",
    "n_list = [\"Happy\", [2,0,2,2]]\n",
    "print(n_list)\n",
    "print(len(n_list))"
   ]
  },
  {
   "cell_type": "code",
   "execution_count": 65,
   "metadata": {},
   "outputs": [
    {
     "name": "stdout",
     "output_type": "stream",
     "text": [
      "2\n",
      "we are still running\n"
     ]
    }
   ],
   "source": [
    "# Nested indexing\n",
    "\n",
    "# Output: a\n",
    "print(n_list[1][0])\n",
    "print(\"we are still running\")"
   ]
  },
  {
   "cell_type": "markdown",
   "metadata": {
    "slideshow": {
     "slide_type": "slide"
    }
   },
   "source": [
    "  ### Main List Functions\n",
    "\n",
    "  <table align='left'>\n",
    "  <tr>\n",
    "  <th>Method</th>\n",
    "  <th>Description</th>\n",
    "  </tr>\n",
    "  <tr><td> append() </td><td>Adds an element at\n",
    "    the end of the list</td></tr>\n",
    "  <tr><td> clear() </td><td>Removes all the\n",
    "    elements from the list</td></tr>\n",
    "  <tr><td> copy() </td><td>Returns a copy of the\n",
    "    list</td></tr>\n",
    "  <tr><td> count() </td><td>Returns the number of\n",
    "    elements with the specified value</td></tr>\n",
    "  <tr><td> extend() </td><td>Add the elements of a\n",
    "    list (or any iterable), to the end of the current list</td></tr>\n",
    "  <tr><td> index() </td><td>Returns the index of\n",
    "    the first element with the specified value</td></tr>\n",
    "  <tr><td> insert() </td><td>Adds an element at\n",
    "    the specified position</td></tr>\n",
    "  <tr><td> pop() </td><td>Removes the element at the\n",
    "    specified position</td></tr>\n",
    "  <tr><td> remove() </td><td>Removes the\n",
    "    item with the specified value</td></tr>\n",
    "  <tr><td> reverse() </td><td>Reverses the order\n",
    "    of the list</td></tr>\n",
    "  <tr><td> sort() </td><td>Sorts the list</td></tr>\n",
    "  </table>"
   ]
  },
  {
   "cell_type": "markdown",
   "metadata": {
    "slideshow": {
     "slide_type": "slide"
    }
   },
   "source": [
    "# Your turn - A short exercise\n",
    "### Complete the following steps in a single code cell:\n",
    "- Create a list containing four strings: \"a\", \"b\", \"c\" and \"d\", store it in a variable called my_list\n",
    "- Print the letter b from the list\n",
    "- Print the letters b and c from the list\n",
    "- Print the length of the list\n",
    "- Print the last 3 elements in the list using negative indexes in your slice\n",
    "- Create a second list with four numbers: 1, 2, 3, 4, store it in variable called my_numbers\n",
    "- What happens if you \"add\" the two lists? E.g.\n",
    "  - **my_big_list = my_list + my_numbers** \n",
    "- Print the new variable my_big_list"
   ]
  },
  {
   "cell_type": "code",
   "execution_count": 66,
   "metadata": {},
   "outputs": [],
   "source": [
    "# Write your exercise answers here"
   ]
  },
  {
   "cell_type": "code",
   "execution_count": 67,
   "metadata": {},
   "outputs": [
    {
     "name": "stdout",
     "output_type": "stream",
     "text": [
      "b\n",
      "b c\n",
      "4\n",
      "['b', 'c', 'd']\n",
      "['a', 'b', 'c', 'd', 1, 2, 3, 4]\n"
     ]
    }
   ],
   "source": [
    "my_list = [\"a\",\"b\",\"c\",\"d\"]\n",
    "print(my_list[1])\n",
    "print(my_list[1]+\" \"+my_list[2])\n",
    "print(len(my_list))\n",
    "print(my_list[-3:])\n",
    "\n",
    "my_numbers = [1,2,3,4]\n",
    "my_big_list = my_list + my_numbers\n",
    "print(my_big_list)"
   ]
  },
  {
   "cell_type": "markdown",
   "metadata": {
    "slideshow": {
     "slide_type": "slide"
    }
   },
   "source": [
    "  ## Tuples\n",
    "\n",
    "  A `heterogeneous` collection of values i.e. can be different types - usually are different types\n",
    "\n",
    "  Tuples are immutable i.e. cannot be changed\n",
    "\n",
    "  Python guarantees tuples are **WRITE** protected.\n",
    "\n",
    "  Create using ()"
   ]
  },
  {
   "cell_type": "markdown",
   "metadata": {
    "cell_style": "split",
    "slideshow": {
     "slide_type": "slide"
    }
   },
   "source": [
    "  ### Empty tuple"
   ]
  },
  {
   "cell_type": "code",
   "execution_count": 68,
   "metadata": {
    "cell_style": "split"
   },
   "outputs": [
    {
     "name": "stdout",
     "output_type": "stream",
     "text": [
      "()\n"
     ]
    }
   ],
   "source": [
    "my_tuple = ()\n",
    "print(my_tuple)"
   ]
  },
  {
   "cell_type": "markdown",
   "metadata": {
    "cell_style": "split"
   },
   "source": [
    "  ### tuple of integers"
   ]
  },
  {
   "cell_type": "code",
   "execution_count": 69,
   "metadata": {
    "cell_style": "split"
   },
   "outputs": [
    {
     "name": "stdout",
     "output_type": "stream",
     "text": [
      "(3, 4, 5)\n"
     ]
    }
   ],
   "source": [
    "my_tuple = (3,4,5)\n",
    "print(my_tuple)"
   ]
  },
  {
   "cell_type": "markdown",
   "metadata": {
    "cell_style": "split"
   },
   "source": [
    "  ### tuple of mixed data types"
   ]
  },
  {
   "cell_type": "code",
   "execution_count": 70,
   "metadata": {
    "cell_style": "split"
   },
   "outputs": [
    {
     "name": "stdout",
     "output_type": "stream",
     "text": [
      "(3, 'october', 'knerd')\n"
     ]
    }
   ],
   "source": [
    "my_tuple = (3,\"october\",\"knerd\")\n",
    "print(my_tuple)"
   ]
  },
  {
   "cell_type": "markdown",
   "metadata": {
    "cell_style": "split"
   },
   "source": [
    "  ### Nested tuple"
   ]
  },
  {
   "cell_type": "code",
   "execution_count": 71,
   "metadata": {
    "cell_style": "split"
   },
   "outputs": [
    {
     "name": "stdout",
     "output_type": "stream",
     "text": [
      "('cat', [8, 4, 6], (1, 2, 3))\n"
     ]
    }
   ],
   "source": [
    "my_tuple = (\"cat\", [8,4,6], (1,2,3))\n",
    "print(my_tuple)"
   ]
  },
  {
   "cell_type": "markdown",
   "metadata": {
    "slideshow": {
     "slide_type": "slide"
    }
   },
   "source": [
    "### Assigning to a variable holding a tuple, assigns a new tuple to that variable.\n",
    "Tuples are immutable, we cannot change a part of a tuple."
   ]
  },
  {
   "cell_type": "code",
   "execution_count": 72,
   "metadata": {
    "slideshow": {
     "slide_type": "-"
    }
   },
   "outputs": [
    {
     "name": "stdout",
     "output_type": "stream",
     "text": [
      "(1, 2, 3, 4)\n"
     ]
    },
    {
     "ename": "TypeError",
     "evalue": "'tuple' object does not support item assignment",
     "output_type": "error",
     "traceback": [
      "\u001b[1;31m---------------------------------------------------------------------------\u001b[0m",
      "\u001b[1;31mTypeError\u001b[0m                                 Traceback (most recent call last)",
      "\u001b[1;32m<ipython-input-72-f810d90bcdc9>\u001b[0m in \u001b[0;36m<module>\u001b[1;34m\u001b[0m\n\u001b[0;32m      2\u001b[0m \u001b[0mprint\u001b[0m\u001b[1;33m(\u001b[0m\u001b[0mmy_tuple\u001b[0m\u001b[1;33m)\u001b[0m\u001b[1;33m\u001b[0m\u001b[1;33m\u001b[0m\u001b[0m\n\u001b[0;32m      3\u001b[0m \u001b[1;31m#See the last statement of error.\u001b[0m\u001b[1;33m\u001b[0m\u001b[1;33m\u001b[0m\u001b[1;33m\u001b[0m\u001b[0m\n\u001b[1;32m----> 4\u001b[1;33m \u001b[0mmy_tuple\u001b[0m\u001b[1;33m[\u001b[0m\u001b[1;36m2\u001b[0m\u001b[1;33m]\u001b[0m\u001b[1;33m=\u001b[0m\u001b[1;36m7\u001b[0m\u001b[1;33m\u001b[0m\u001b[1;33m\u001b[0m\u001b[0m\n\u001b[0m",
      "\u001b[1;31mTypeError\u001b[0m: 'tuple' object does not support item assignment"
     ]
    }
   ],
   "source": [
    "my_tuple = (1,2,3,4)\n",
    "print(my_tuple)\n",
    "#See the last statement of error.\n",
    "my_tuple[2]=7"
   ]
  },
  {
   "cell_type": "markdown",
   "metadata": {},
   "source": [
    "  ### Accessing elements inside a tuple - the same as list - use []"
   ]
  },
  {
   "cell_type": "code",
   "execution_count": 73,
   "metadata": {},
   "outputs": [
    {
     "data": {
      "text/plain": [
       "3"
      ]
     },
     "execution_count": 73,
     "metadata": {},
     "output_type": "execute_result"
    }
   ],
   "source": [
    "my_tuple[2]"
   ]
  },
  {
   "cell_type": "markdown",
   "metadata": {
    "slideshow": {
     "slide_type": "slide"
    }
   },
   "source": [
    "  ### Create tuples without ()"
   ]
  },
  {
   "cell_type": "code",
   "execution_count": 74,
   "metadata": {},
   "outputs": [
    {
     "name": "stdout",
     "output_type": "stream",
     "text": [
      "(3, 4.6, 'dog')\n"
     ]
    }
   ],
   "source": [
    "my_naked_tuple = 3, 4.6, \"dog\"\n",
    "print(my_naked_tuple)\n"
   ]
  },
  {
   "cell_type": "markdown",
   "metadata": {
    "slideshow": {
     "slide_type": "slide"
    }
   },
   "source": [
    "  ### Unpacking a tuple\n",
    "  - Used when tuples are used as the return values from a function\n",
    "\n",
    "  - Widely used in the Machine Learning libraries"
   ]
  },
  {
   "cell_type": "code",
   "execution_count": 75,
   "metadata": {},
   "outputs": [
    {
     "name": "stdout",
     "output_type": "stream",
     "text": [
      "3\n",
      "4\n",
      "5\n",
      "(3, 4, 5)\n"
     ]
    }
   ],
   "source": [
    "def foo():\n",
    "    return 3,4,5\n",
    "\n",
    "a,b,c = foo()\n",
    "d = foo()\n",
    "print(a)\n",
    "print(b)\n",
    "print(c)\n",
    "print(d)"
   ]
  },
  {
   "cell_type": "markdown",
   "metadata": {
    "slideshow": {
     "slide_type": "slide"
    }
   },
   "source": [
    "# Main Tuple Functions\n",
    "\n",
    "|Method|Description|\n",
    "|:--|:--|\n",
    "|count()|Returns the number of times a specified value occurs in a tuple|\n",
    "|index()|Searches the tuple for a specified value and returns the position of where it was found|\n",
    "\n"
   ]
  },
  {
   "cell_type": "markdown",
   "metadata": {
    "slideshow": {
     "slide_type": "slide"
    }
   },
   "source": [
    "## Sets\n",
    "\n",
    "A heterogeneous collection of values.\n",
    "\n",
    "Unordered, but mutable.\n",
    "\n",
    "Create using {}"
   ]
  },
  {
   "cell_type": "markdown",
   "metadata": {
    "cell_style": "split",
    "slideshow": {
     "slide_type": "subslide"
    }
   },
   "source": [
    "  ### Empty Set"
   ]
  },
  {
   "cell_type": "code",
   "execution_count": 76,
   "metadata": {
    "cell_style": "split"
   },
   "outputs": [
    {
     "name": "stdout",
     "output_type": "stream",
     "text": [
      "{}\n"
     ]
    }
   ],
   "source": [
    "my_set = {}\n",
    "print(my_set)"
   ]
  },
  {
   "cell_type": "markdown",
   "metadata": {
    "cell_style": "split"
   },
   "source": [
    "  ### Set with initial Values"
   ]
  },
  {
   "cell_type": "code",
   "execution_count": 77,
   "metadata": {
    "cell_style": "split"
   },
   "outputs": [
    {
     "name": "stdout",
     "output_type": "stream",
     "text": [
      "{1, 2, 'rainbow', 'INR', 'USD', 'dog'}\n"
     ]
    }
   ],
   "source": [
    "my_set = {1, \"USD\", \"INR\",2,\"dog\", \"rainbow\"}\n",
    "print(my_set)"
   ]
  },
  {
   "cell_type": "markdown",
   "metadata": {
    "cell_style": "split"
   },
   "source": [
    "  ### Create using set()"
   ]
  },
  {
   "cell_type": "code",
   "execution_count": 78,
   "metadata": {
    "cell_style": "split"
   },
   "outputs": [
    {
     "name": "stdout",
     "output_type": "stream",
     "text": [
      "<class 'type'>\n"
     ]
    }
   ],
   "source": [
    "my_set = set({1,4,'USD'})\n",
    "print(type(set))\n"
   ]
  },
  {
   "cell_type": "markdown",
   "metadata": {
    "cell_style": "split"
   },
   "source": [
    "  ### Set of tuples"
   ]
  },
  {
   "cell_type": "code",
   "execution_count": 79,
   "metadata": {
    "cell_style": "split"
   },
   "outputs": [
    {
     "name": "stdout",
     "output_type": "stream",
     "text": [
      "<class 'list'>\n",
      "{(2, 'AMZN'), (1, 'FB'), (3, 'C')}\n"
     ]
    }
   ],
   "source": [
    "my_tuples = [ (2, \"AMZN\"), (1,\"FB\"), (3, \"C\")]\n",
    "print(type(my_tuples))\n",
    "my_set = set(my_tuples)\n",
    "print(my_set)"
   ]
  },
  {
   "cell_type": "markdown",
   "metadata": {
    "slideshow": {
     "slide_type": "slide"
    }
   },
   "source": [
    "  ### Main Set Methods\n",
    "\n",
    "  <table align='left'>\n",
    "  <tr>\n",
    "  <th>Method</th>\n",
    "  <th>Description</th>\n",
    "  </tr>\n",
    "  <tr><td> add() </td><td>Adds an element to the set</td></tr>\n",
    "  <tr><td> clear() </td><td>Removes all the elements from the set</td></tr>\n",
    "  <tr><td> copy() </td><td>Returns a copy of the set</td></tr>\n",
    "  <tr><td> difference() </td><td>Returns a set containing the difference between two or more sets</td></tr>\n",
    "  <tr><td> difference_update()</td><td>Removes the items in this set that are also included in another, specified set</td></tr>\n",
    "  <tr><td> discard() </td><td>Remove the specified item</td></tr>\n",
    "  <tr><td> intersection() </td><td>Returns a set, that is the intersection of two other sets</td></tr>\n",
    "  <tr><td> intersection_update() </td><td> Removes the items in this set that are not present in other, specified set(s)</td></tr>\n",
    "  <tr><td> isdisjoint() </td><td>Returns whether two sets have a intersection or not</td></tr>\n",
    "  <tr> <td> issubset() </td><td>Returns whether another set contains this set or not</td></tr>\n",
    "  <tr><td> issuperset() </td><td>Returns whether this set contains another set or not</td></tr>\n",
    "  <tr><td> pop() </td><td>Removes an element from the set</td></tr>\n",
    "  <tr><td> remove() </td><td>Removes the specified element</td></tr>\n",
    "  <tr><td> symmetric_difference() </td><td>Returns a set with the symmetric differences of two sets</td></tr>\n",
    "  <tr><td> symmetric_difference_update()</a></td><td> inserts the symmetric differences from this set and another</td></tr>\n",
    "  <tr><td> union() </td><td>Return a set containing the union of sets</td></tr>\n",
    "  <tr><td> update() </td><td>Update the set with the union of this set and others</td></tr>\n",
    "  </table>\n"
   ]
  },
  {
   "cell_type": "markdown",
   "metadata": {
    "slideshow": {
     "slide_type": "slide"
    }
   },
   "source": [
    "  ## Dictionaries\n",
    "\n",
    "  A heterogeneous collection of key/values pairs. Quite often key is a simple value - integer or string, the values are complex, tuples or lists. Keys do not need to be of the same type. We create a dictionary using {}"
   ]
  },
  {
   "cell_type": "markdown",
   "metadata": {
    "cell_style": "split"
   },
   "source": [
    "  ### Empty Dictionary"
   ]
  },
  {
   "cell_type": "code",
   "execution_count": 80,
   "metadata": {
    "cell_style": "split"
   },
   "outputs": [
    {
     "name": "stdout",
     "output_type": "stream",
     "text": [
      "{}\n"
     ]
    }
   ],
   "source": [
    "my_dict = {}\n",
    "print(my_dict)"
   ]
  },
  {
   "cell_type": "markdown",
   "metadata": {
    "cell_style": "split"
   },
   "source": [
    "  ### Dictionary with integer keys"
   ]
  },
  {
   "cell_type": "code",
   "execution_count": 81,
   "metadata": {
    "cell_style": "split"
   },
   "outputs": [
    {
     "name": "stdout",
     "output_type": "stream",
     "text": [
      "{1: 'USD', 2: 'INR', 3: 'GBP'}\n"
     ]
    }
   ],
   "source": [
    "my_dict = {1:\"USD\", 2:\"INR\", 3:\"GBP\"}\n",
    "print(my_dict)"
   ]
  },
  {
   "cell_type": "markdown",
   "metadata": {
    "cell_style": "split"
   },
   "source": [
    "### Dictionary with mixed keys"
   ]
  },
  {
   "cell_type": "code",
   "execution_count": 82,
   "metadata": {
    "cell_style": "split"
   },
   "outputs": [
    {
     "name": "stdout",
     "output_type": "stream",
     "text": [
      "{'FB': 'function', 1: (2, 3, 4)}\n"
     ]
    }
   ],
   "source": [
    "my_dict = {'FB' : 'function', 1: (2,3,4)}\n",
    "print(my_dict)"
   ]
  },
  {
   "cell_type": "markdown",
   "metadata": {
    "slideshow": {
     "slide_type": "slide"
    }
   },
   "source": [
    "### Create using dict()"
   ]
  },
  {
   "cell_type": "code",
   "execution_count": 83,
   "metadata": {},
   "outputs": [
    {
     "name": "stdout",
     "output_type": "stream",
     "text": [
      "{'FB': 'Facebook', 'AMZN': 'AMAZON', 'C': 'CRED'}\n"
     ]
    }
   ],
   "source": [
    "my_dict = dict({'FB':\"Facebook\", \"AMZN\":\"AMAZON\", \"C\":\"CRED\"})\n",
    "print(my_dict)"
   ]
  },
  {
   "cell_type": "markdown",
   "metadata": {
    "slideshow": {
     "slide_type": "fragment"
    }
   },
   "source": [
    "### Create from a sequence (of pairs)"
   ]
  },
  {
   "cell_type": "code",
   "execution_count": 84,
   "metadata": {},
   "outputs": [
    {
     "name": "stdout",
     "output_type": "stream",
     "text": [
      "{1: 'FB', 2: 'AMZN'}\n"
     ]
    }
   ],
   "source": [
    "my_seq = [(1,\"FB\"), (2, \"AMZN\")]\n",
    "my_dict = dict(my_seq)\n",
    "print(my_dict)"
   ]
  },
  {
   "cell_type": "markdown",
   "metadata": {
    "slideshow": {
     "slide_type": "slide"
    }
   },
   "source": [
    "# Dabbling in dictionaries\n",
    "\n",
    "### A short exercise to test what we've learned\n",
    "Complete the following steps in a single cell\n",
    "\n",
    "Create a dictionary called my_dict, containing the following data:\n",
    "```{'first' : 1, 'second': 2, 'third': 3}```\n",
    "\n",
    "Print the value corresponding to the key \"second\"\n",
    "\n",
    "Print the result of checking whether the value assigned to the dictionary key 'third' is greater than or equal to 3.\n",
    "\n",
    "Write an `if` block that prints \"Success\" if the key 'third' is contained with the dictionary `my_dict`"
   ]
  },
  {
   "cell_type": "code",
   "execution_count": 85,
   "metadata": {
    "slideshow": {
     "slide_type": "fragment"
    }
   },
   "outputs": [
    {
     "name": "stdout",
     "output_type": "stream",
     "text": [
      "2\n",
      "True\n",
      "Success\n"
     ]
    }
   ],
   "source": [
    "my_dict = {'first' : 1, 'second': 2, 'third': 3}\n",
    "print(my_dict['second'])\n",
    "print(my_dict['third'] >= 3)\n",
    "\n",
    "for k in my_dict.keys():\n",
    "    if k == 'third':\n",
    "        print(\"Success\")"
   ]
  },
  {
   "cell_type": "markdown",
   "metadata": {
    "slideshow": {
     "slide_type": "slide"
    }
   },
   "source": [
    "# Revisiting conditionals\n",
    "## Testing if a value is \"in\" a collection\n",
    "\n",
    "We saw the use of `in` when we looked at loops earlier `for i in range(1,10)`.\n",
    "\n",
    "We can also use `in` with collections.\n",
    "\n",
    "- `in` and `not in`\n",
    "e.g.\n",
    "- Check if the letter 'a' is in a list:\n",
    "    - **'a' in my_list**\n",
    "- Check if the key 'b' is in a dictionary:\n",
    "    - **'b' in my_dict**"
   ]
  },
  {
   "cell_type": "markdown",
   "metadata": {
    "slideshow": {
     "slide_type": "slide"
    }
   },
   "source": [
    "## Let's revise our answer to the previous exercise\n",
    "We can use the `in` operator to check membership of a collection.\n",
    "\n",
    "We can get a list containing just the keys or just the values of the dictionary using the `keys()` and `values()` methods respectively.\n",
    "\n",
    "Using `my_dict` from before, write a more succint test "
   ]
  },
  {
   "cell_type": "code",
   "execution_count": 86,
   "metadata": {},
   "outputs": [
    {
     "name": "stdout",
     "output_type": "stream",
     "text": [
      "dict_values([1, 2, 3])\n",
      "dict_keys(['first', 'second', 'third'])\n"
     ]
    }
   ],
   "source": [
    "print(my_dict.values())\n",
    "print(my_dict.keys())"
   ]
  },
  {
   "cell_type": "code",
   "execution_count": 87,
   "metadata": {
    "slideshow": {
     "slide_type": "fragment"
    }
   },
   "outputs": [
    {
     "name": "stdout",
     "output_type": "stream",
     "text": [
      "yay\n"
     ]
    }
   ],
   "source": [
    "if 'second' not in my_dict:\n",
    "    print(\"not\")\n",
    "else:\n",
    "    print(\"yay\")"
   ]
  },
  {
   "cell_type": "code",
   "execution_count": 88,
   "metadata": {},
   "outputs": [
    {
     "name": "stdout",
     "output_type": "stream",
     "text": [
      "found by value\n"
     ]
    }
   ],
   "source": [
    "if 3 in my_dict.values():\n",
    "    print('found by value')"
   ]
  },
  {
   "cell_type": "markdown",
   "metadata": {
    "slideshow": {
     "slide_type": "slide"
    }
   },
   "source": [
    "  ## Complex data types\n",
    "  ### Using name value pairs to describe attributes of a Stock"
   ]
  },
  {
   "cell_type": "code",
   "execution_count": 89,
   "metadata": {},
   "outputs": [
    {
     "name": "stdout",
     "output_type": "stream",
     "text": [
      "{'FB': 'Facebook', 'Adj Close': 123.45, 'Open': 134.0}\n",
      "123.45\n",
      "{'FB': 'Facebook', 'Adj Close': 123.45, 'Open': 134.0, 'Volume': 75489}\n",
      "{'FB': 'Facebook', 'Open': 134.0, 'Volume': 75489}\n"
     ]
    }
   ],
   "source": [
    "my_dict = {'FB':'Facebook', 'Adj Close': 123.45, \"Open\" : 134.00 }\n",
    "print(my_dict)\n",
    "\n",
    "print(my_dict.get('Adj Close'))\n",
    "my_dict['Volume'] = 75489\n",
    "print(my_dict)\n",
    "my_dict.pop('Adj Close')\n",
    "print(my_dict)\n"
   ]
  },
  {
   "cell_type": "code",
   "execution_count": 90,
   "metadata": {},
   "outputs": [
    {
     "name": "stdout",
     "output_type": "stream",
     "text": [
      "{'fred': 27, 'spam': 367, 'cred': 43}\n",
      "cred=43\n",
      "fred=27\n",
      "spam=367\n"
     ]
    }
   ],
   "source": [
    "my_word_dict = {\"fred\":27, \"spam\":367, \"cred\":43}\n",
    "print(my_word_dict)\n",
    "my_keys = my_word_dict.keys()\n",
    "my_sorted_keys = sorted(my_keys)\n",
    "for k in my_sorted_keys:\n",
    "    print(k + \"=\" + str(my_word_dict[k]))"
   ]
  },
  {
   "cell_type": "markdown",
   "metadata": {
    "slideshow": {
     "slide_type": "slide"
    }
   },
   "source": [
    "  ### Main Dictionary Methods\n",
    "\n",
    "  <table align='left'>\n",
    "  <tr>\n",
    "  <th>Method</th>\n",
    "  <th>Description</th>\n",
    "  </tr>\n",
    "  <tr><td> clear() </td><td>Removes all the elements from the dictionary</td></tr>\n",
    "  <tr><td> copy() </td><td>Returns a copy of the dictionary</td></tr>\n",
    "  <tr><td> fromkeys() </td><td>Returns a dictionary with the specified keys and values</td></tr>\n",
    "  <tr><td> get() </td><td>Returns the value of the specified key</td></tr>\n",
    "  <tr><td> items() </td><td>Returns a list containing the a tuple for each key value pair</td></tr>\n",
    "  <tr><td> keys() </td><td>Returns a list containing the dictionary's keys</td></tr>\n",
    "  <tr><td> pop() </td><td>Removes the element with the specified key</td></tr>\n",
    "  <tr><td> popitem() </td><td>Removes the last inserted key-value pair</td></tr>\n",
    "  <tr><td> setdefault() </td><td>Returns the value of the specified key. If the key does not exist: insert the key, with the specified value</td></tr>\n",
    "  <tr><td> update() </td><td>Updates the dictionary with the specified key-value pairs</td></tr>\n",
    "  <tr><td> values() </td><td>Returns a list of all the values in the dictionary</td></tr>\n",
    "  </table>\n"
   ]
  },
  {
   "cell_type": "markdown",
   "metadata": {
    "slideshow": {
     "slide_type": "slide"
    }
   },
   "source": [
    "  ## Iteration\n",
    "  Often we want to process each item of a container, this is known as iteration."
   ]
  },
  {
   "cell_type": "code",
   "execution_count": 91,
   "metadata": {},
   "outputs": [
    {
     "name": "stdout",
     "output_type": "stream",
     "text": [
      "There\n",
      "was\n",
      "an\n",
      "old\n",
      "woman\n",
      "who\n",
      "lived\n",
      "in\n",
      "a\n",
      "shoe.\n"
     ]
    }
   ],
   "source": [
    "# Over a list\n",
    "wordlist = [\"There\", \"was\", \"an\", \"old\", \"woman\", \"who\", \"lived\", \"in\", \"a\", \"shoe.\"]\n",
    "for word in wordlist:\n",
    "    print(word)\n"
   ]
  },
  {
   "cell_type": "code",
   "execution_count": 92,
   "metadata": {},
   "outputs": [
    {
     "name": "stdout",
     "output_type": "stream",
     "text": [
      "She\n",
      "had\n",
      "so\n",
      "many\n",
      "children\n",
      "she\n",
      "didn't\n",
      "know\n",
      "what\n",
      "to\n",
      "do.\n"
     ]
    }
   ],
   "source": [
    "# Over a tuple\n",
    "wordtuple = (\"She\", \"had\", \"so\", \"many\", \"children\", \"she\", \"didn't\", \"know\", \"what\", \"to\", \"do.\")\n",
    "for word in wordtuple:\n",
    "    print(word)\n"
   ]
  },
  {
   "cell_type": "code",
   "execution_count": 93,
   "metadata": {
    "slideshow": {
     "slide_type": "subslide"
    }
   },
   "outputs": [
    {
     "name": "stdout",
     "output_type": "stream",
     "text": [
      "of\n",
      "slice\n",
      "and\n",
      "big\n",
      "some\n",
      "them\n",
      "bread.\n",
      "gave\n",
      "a\n",
      "broth\n",
      "She\n"
     ]
    }
   ],
   "source": [
    "# Over a set    \n",
    "wordset = {\"She\", \"gave\", \"them\", \"some\", \"broth\", \"and\", \"a\", \"big\", \"slice\", \"of\", \"bread.\"}\n",
    "for word in wordset:\n",
    "    print(word)\n"
   ]
  },
  {
   "cell_type": "code",
   "execution_count": 94,
   "metadata": {},
   "outputs": [
    {
     "name": "stdout",
     "output_type": "stream",
     "text": [
      "1=Then\n",
      "Two=kissed\n",
      "3=them\n",
      "Four=all\n",
      "5=soundly\n",
      "VI=and\n",
      "seven=sent\n",
      "8=them\n",
      "9=to\n",
      "X=bed.\n"
     ]
    }
   ],
   "source": [
    "# Over a dictionary   \n",
    "worddict = { '1':\"Then\", \"Two\":\"kissed\",  3:\"them\",  'Four':\"all\",  5:\"soundly\",  \n",
    "             'VI':\"and\", \"seven\":'sent', 8:'them', \"9\":'to', 'X':'bed.'}\n",
    "for k,v in worddict.items():\n",
    "    print(str(k)+\"=\"+str(v))\n"
   ]
  },
  {
   "cell_type": "markdown",
   "metadata": {
    "slideshow": {
     "slide_type": "slide"
    }
   },
   "source": [
    "# Comprehensions\n",
    "Python has the concept of a comprehension, firstly for lists and later applied to sets.\n",
    "\n",
    "Comprehensions are a powerful way to create and represent groups of data, but the terminology often confuses people.\n",
    "### So why \"comprehension\"?\n",
    "Ironically the word comprehension, leads to confusion. It is hard to comprehend! Another win for the english language.\n",
    "\n",
    "However, considered in the proper historical context it makes sense.\n",
    "\n",
    "In mathematics and logic, you can describe a set of numbers either comprehensively or exhaustively. The first is concise, the second while complete could be infinite.\n",
    "\n"
   ]
  },
  {
   "cell_type": "markdown",
   "metadata": {
    "slideshow": {
     "slide_type": "subslide"
    }
   },
   "source": [
    "## A Mathematical Example:\n",
    "We want to define a set as being the whole numbers between 2 and 10. \n",
    ">S = {x|x∈N,x>2, x<10}\n",
    "\n",
    "Reading this we see that S is the set (denoted by {}) of numbers x, where x is a Natural number, x is greater than 2 and x is less than 10,\n",
    "\n",
    "This comprehension summarises all the members of the set concisely. The exhaustive list in this case is also quite straightforward.\n",
    ">S = {3,4,5,6,7,8,9,}"
   ]
  },
  {
   "cell_type": "markdown",
   "metadata": {
    "slideshow": {
     "slide_type": "subslide"
    }
   },
   "source": [
    "## A Mathematical example continued.\n",
    "\n",
    "But what if we removed the last clause of the comprehension? Reading this we see that S is the set of natural numbers greater than two. \n",
    ">S = {x|x∈N,x>2}\n",
    "\n",
    "The comprehension summarises the concept succinctly; however, the exhaustive list is infinite.\n",
    ">S = {3,4,5,6,7,8,9,10,11,12,13,14,15,16.......}\n",
    "\n",
    "A comprehension in python (and other languages) is therefore a concise way to comprehensively define the contents of collection.\n",
    "\n",
    "Let's take a look at some real examples."
   ]
  },
  {
   "cell_type": "markdown",
   "metadata": {
    "slideshow": {
     "slide_type": "slide"
    }
   },
   "source": [
    "## List comprehensions\n",
    "\n",
    "A list comprehension provides a concise way to create a list.\n",
    "\n",
    "It consists of brackets containing an expression followed by a for clause, then\n",
    "zero or more for or if clauses. The expressions can be anything, meaning you can\n",
    "put in all kinds of objects in lists.\n",
    "\n",
    "The result will be a new list resulting from evaluating the expression in the\n",
    "context of the for and if clauses which follow it.\n",
    "\n",
    "The list comprehension always returns a result list.\n",
    "\n",
    "They are expressed in a very similar to the mathematical sets described above\n",
    "\n",
    "### long_words = [word for word in wordslist if len_gt_five(word)]\n",
    "Reading this as before:\n",
    "long_words is the list (denoted by the []) of values \"word\", where word is in \"wordlist\" and is longer than 5 letters.\n",
    "\n",
    "We will run this example shortly\n"
   ]
  },
  {
   "cell_type": "markdown",
   "metadata": {
    "slideshow": {
     "slide_type": "slide"
    }
   },
   "source": [
    "### A python example - finding the long words in some text\n",
    "Firstly we need to setup a couple of things. \n",
    "* Our filter function. We will discuss these more later.\n",
    "* The body of text we will process."
   ]
  },
  {
   "cell_type": "code",
   "execution_count": 95,
   "metadata": {
    "slideshow": {
     "slide_type": "fragment"
    }
   },
   "outputs": [
    {
     "name": "stdout",
     "output_type": "stream",
     "text": [
      "['There', 'was', 'an', 'old', 'woman', 'who', 'lived', 'in', 'a', 'shoe.', 'She', 'had', 'so', 'many', 'children,', 'she', \"didn't\", 'know', 'what', 'to', 'do.', 'She', 'gave', 'them', 'some', 'broth', 'and', 'a', 'big', 'slice', 'of', 'bread.', 'Then', 'kissed', 'them', 'all', 'soundly', 'and', 'sent', 'them', 'to', 'bed.']\n"
     ]
    }
   ],
   "source": [
    "verse = '''There was an old woman who lived in a shoe.\n",
    "She had so many children, she didn't know what to do.\n",
    "She gave them some broth and a big slice of bread.\n",
    "Then kissed them all soundly and sent them to bed.'''\n",
    "\n",
    "wordslist = verse.split()\n",
    "print(wordslist)\n"
   ]
  },
  {
   "cell_type": "markdown",
   "metadata": {
    "slideshow": {
     "slide_type": "fragment"
    }
   },
   "source": [
    "### The \"exhaustive\" way of doing this:"
   ]
  },
  {
   "cell_type": "code",
   "execution_count": 96,
   "metadata": {
    "slideshow": {
     "slide_type": "fragment"
    }
   },
   "outputs": [],
   "source": [
    "def len_gt_five(word):\n",
    "    return len(word) > 5\n",
    "\n",
    "long_words = []\n",
    "for word in wordslist:\n",
    "    if len_gt_five(word):\n",
    "        long_words.append(word)"
   ]
  },
  {
   "cell_type": "code",
   "execution_count": 97,
   "metadata": {},
   "outputs": [
    {
     "name": "stdout",
     "output_type": "stream",
     "text": [
      "['children,', \"didn't\", 'bread.', 'kissed', 'soundly']\n"
     ]
    }
   ],
   "source": [
    "print(long_words)"
   ]
  },
  {
   "cell_type": "markdown",
   "metadata": {
    "slideshow": {
     "slide_type": "subslide"
    }
   },
   "source": [
    "  ### You can obtain the same thing using list comprehension:"
   ]
  },
  {
   "cell_type": "code",
   "execution_count": 98,
   "metadata": {},
   "outputs": [],
   "source": [
    "long_words = [ word for word in wordslist if len_gt_five(word)]"
   ]
  },
  {
   "cell_type": "code",
   "execution_count": 99,
   "metadata": {},
   "outputs": [
    {
     "name": "stdout",
     "output_type": "stream",
     "text": [
      "['children,', \"didn't\", 'bread.', 'kissed', 'soundly']\n"
     ]
    }
   ],
   "source": [
    "print(long_words)"
   ]
  },
  {
   "cell_type": "markdown",
   "metadata": {
    "slideshow": {
     "slide_type": "slide"
    }
   },
   "source": [
    "  ## Set comprehensions\n",
    "\n",
    "  Same idea as list comprehension\n",
    "\n",
    "  Set comprehensions provide a concise way to create sets.\n",
    "\n",
    "  It consists of `braces` containing an expression followed by a for clause, then\n",
    "  zero or more for or if clauses. The expressions can be anything, meaning you can\n",
    "  put in all kinds of objects in sets.\n",
    "\n",
    "  The result will be a new set resulting from evaluating the expression in the\n",
    "  context of the for and if clauses which follow it.\n",
    "\n",
    "  The set comprehension always returns a result set."
   ]
  },
  {
   "cell_type": "markdown",
   "metadata": {
    "slideshow": {
     "slide_type": "slide"
    }
   },
   "source": [
    "  ## enumerate\n",
    "\n",
    "  Enumerate is a built-in function of Python.\n",
    "\n",
    "  It allows us to loop over something **and** have an automatic counter.\n",
    "\n"
   ]
  },
  {
   "cell_type": "code",
   "execution_count": 100,
   "metadata": {},
   "outputs": [
    {
     "name": "stdout",
     "output_type": "stream",
     "text": [
      "0 children,\n",
      "1 didn't\n",
      "2 bread.\n",
      "3 kissed\n",
      "4 soundly\n"
     ]
    }
   ],
   "source": [
    "long_words = [word for word in wordslist if len_gt_five(word)]\n",
    "\n",
    "for c, value in enumerate(long_words):\n",
    "    print(c,value)"
   ]
  },
  {
   "cell_type": "markdown",
   "metadata": {
    "cell_style": "split",
    "slideshow": {
     "slide_type": "slide"
    }
   },
   "source": [
    "## Slicing\n",
    "\n",
    "### Which collections can we slice?\n",
    "list and tuples can be sliced in a similar way to strings, slicing only really makes sense for ordered collections and so it cannot be used with sets or dictionaries without first converting them to lists.\n",
    "\n",
    "### Remembering how\n",
    "2 variants\n",
    "  - collection[start:stop]\n",
    "  - collection[start:stop:step]\n",
    "\n",
    "Don't forget a negative step indexes from the end.\n",
    "\n",
    "### Finally\n",
    "Slicing is an extremely powerful concept and you will find that the concept appears time and again as we progress onto libraries such as Pandas.\n",
    "\n",
    "Work through the examples and ensure that you understand why each of them returns the results that it does. Play with the code until you are feeling comforatble with slicing.\n"
   ]
  },
  {
   "cell_type": "code",
   "execution_count": 101,
   "metadata": {
    "cell_style": "split",
    "slideshow": {
     "slide_type": "slide"
    }
   },
   "outputs": [
    {
     "data": {
      "text/plain": [
       "[0, 1, 2, 3, 4, 5, 6, 7, 8, 9]"
      ]
     },
     "execution_count": 101,
     "metadata": {},
     "output_type": "execute_result"
    }
   ],
   "source": [
    "lst = [0,1,2,3,4,5,6,7,8,9]\n",
    "lst"
   ]
  },
  {
   "cell_type": "code",
   "execution_count": 102,
   "metadata": {
    "cell_style": "split"
   },
   "outputs": [
    {
     "data": {
      "text/plain": [
       "[0, 1, 2, 3, 4, 5]"
      ]
     },
     "execution_count": 102,
     "metadata": {},
     "output_type": "execute_result"
    }
   ],
   "source": [
    "lst[0:6]"
   ]
  },
  {
   "cell_type": "code",
   "execution_count": 103,
   "metadata": {
    "cell_style": "split"
   },
   "outputs": [
    {
     "data": {
      "text/plain": [
       "[0, 2, 4]"
      ]
     },
     "execution_count": 103,
     "metadata": {},
     "output_type": "execute_result"
    }
   ],
   "source": [
    "lst[0:6:2]"
   ]
  },
  {
   "cell_type": "code",
   "execution_count": 104,
   "metadata": {
    "cell_style": "split"
   },
   "outputs": [
    {
     "data": {
      "text/plain": [
       "[0, 1, 2, 3, 4, 5]"
      ]
     },
     "execution_count": 104,
     "metadata": {},
     "output_type": "execute_result"
    }
   ],
   "source": [
    "lst[:6]"
   ]
  },
  {
   "cell_type": "code",
   "execution_count": 105,
   "metadata": {
    "cell_style": "split"
   },
   "outputs": [
    {
     "data": {
      "text/plain": [
       "[6, 7, 8, 9]"
      ]
     },
     "execution_count": 105,
     "metadata": {},
     "output_type": "execute_result"
    }
   ],
   "source": [
    "lst[6:]"
   ]
  },
  {
   "cell_type": "code",
   "execution_count": 106,
   "metadata": {
    "cell_style": "split"
   },
   "outputs": [
    {
     "data": {
      "text/plain": [
       "[6, 8]"
      ]
     },
     "execution_count": 106,
     "metadata": {},
     "output_type": "execute_result"
    }
   ],
   "source": [
    "lst[6::2]"
   ]
  },
  {
   "cell_type": "code",
   "execution_count": 107,
   "metadata": {
    "cell_style": "split"
   },
   "outputs": [
    {
     "data": {
      "text/plain": [
       "[3, 4, 5, 6, 7]"
      ]
     },
     "execution_count": 107,
     "metadata": {},
     "output_type": "execute_result"
    }
   ],
   "source": [
    "lst[3:-2]"
   ]
  },
  {
   "cell_type": "code",
   "execution_count": 108,
   "metadata": {
    "cell_style": "split"
   },
   "outputs": [
    {
     "data": {
      "text/plain": [
       "[6, 5, 4, 3]"
      ]
     },
     "execution_count": 108,
     "metadata": {},
     "output_type": "execute_result"
    }
   ],
   "source": [
    "lst[6:2:-1]"
   ]
  },
  {
   "cell_type": "code",
   "execution_count": 109,
   "metadata": {
    "cell_style": "split"
   },
   "outputs": [
    {
     "data": {
      "text/plain": [
       "[]"
      ]
     },
     "execution_count": 109,
     "metadata": {},
     "output_type": "execute_result"
    }
   ],
   "source": [
    "lst[20:25]"
   ]
  }
 ],
 "metadata": {
  "celltoolbar": "Slideshow",
  "file_extension": ".py",
  "kernelspec": {
   "display_name": "Python 3",
   "language": "python",
   "name": "python3"
  },
  "language_info": {
   "codemirror_mode": {
    "name": "ipython",
    "version": 3
   },
   "file_extension": ".py",
   "mimetype": "text/x-python",
   "name": "python",
   "nbconvert_exporter": "python",
   "pygments_lexer": "ipython3",
   "version": "3.7.6"
  },
  "mimetype": "text/x-python",
  "name": "python",
  "npconvert_exporter": "python",
  "pygments_lexer": "ipython3",
  "version": 3
 },
 "nbformat": 4,
 "nbformat_minor": 2
}
